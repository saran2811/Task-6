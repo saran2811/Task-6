{
  "nbformat": 4,
  "nbformat_minor": 0,
  "metadata": {
    "colab": {
      "provenance": [],
      "authorship_tag": "ABX9TyPrFs25sN1TxECbFu0++cWn",
      "include_colab_link": true
    },
    "kernelspec": {
      "name": "python3",
      "display_name": "Python 3"
    },
    "language_info": {
      "name": "python"
    }
  },
  "cells": [
    {
      "cell_type": "markdown",
      "metadata": {
        "id": "view-in-github",
        "colab_type": "text"
      },
      "source": [
        "<a href=\"https://colab.research.google.com/github/saran2811/Task-6/blob/main/boston_housing.ipynb\" target=\"_parent\"><img src=\"https://colab.research.google.com/assets/colab-badge.svg\" alt=\"Open In Colab\"/></a>"
      ]
    },
    {
      "cell_type": "code",
      "execution_count": 1,
      "metadata": {
        "id": "0kPjOPB1vGn7"
      },
      "outputs": [],
      "source": [
        "import numpy as np"
      ]
    },
    {
      "cell_type": "code",
      "source": [
        "phi=np.loadtxt(\"/content/train.csv\",dtype='float',skiprows=1,delimiter=',',usecols=tuple(range(1, 14)))"
      ],
      "metadata": {
        "id": "YUE9kCNzvNr2"
      },
      "execution_count": 2,
      "outputs": []
    },
    {
      "cell_type": "code",
      "source": [
        "phi\n"
      ],
      "metadata": {
        "colab": {
          "base_uri": "https://localhost:8080/"
        },
        "id": "aem7m95u12VK",
        "outputId": "4c0fa71b-502f-41f8-94c6-d755b27fb575"
      },
      "execution_count": 3,
      "outputs": [
        {
          "output_type": "execute_result",
          "data": {
            "text/plain": [
              "array([[9.55770e-01, 0.00000e+00, 8.14000e+00, ..., 2.10000e+01,\n",
              "        3.06380e+02, 1.72800e+01],\n",
              "       [2.87500e-02, 2.80000e+01, 1.50400e+01, ..., 1.82000e+01,\n",
              "        3.96330e+02, 6.21000e+00],\n",
              "       [1.22358e+00, 0.00000e+00, 1.95800e+01, ..., 1.47000e+01,\n",
              "        3.63430e+02, 4.59000e+00],\n",
              "       ...,\n",
              "       [6.65492e+00, 0.00000e+00, 1.81000e+01, ..., 2.02000e+01,\n",
              "        3.96900e+02, 1.39900e+01],\n",
              "       [1.31170e-01, 0.00000e+00, 8.56000e+00, ..., 2.09000e+01,\n",
              "        3.87690e+02, 1.40900e+01],\n",
              "       [6.46600e-02, 7.00000e+01, 2.24000e+00, ..., 1.48000e+01,\n",
              "        3.68240e+02, 4.97000e+00]])"
            ]
          },
          "metadata": {},
          "execution_count": 3
        }
      ]
    },
    {
      "cell_type": "code",
      "source": [
        "y=np.loadtxt(\"/content/train.csv\",dtype='float',skiprows=1,delimiter=',',usecols=-1,ndmin=2)"
      ],
      "metadata": {
        "id": "3D-Kn7tc3iH0"
      },
      "execution_count": 4,
      "outputs": []
    },
    {
      "cell_type": "code",
      "source": [
        "y"
      ],
      "metadata": {
        "colab": {
          "base_uri": "https://localhost:8080/"
        },
        "id": "cDXq3fwt4wIy",
        "outputId": "eb3053d9-8144-4193-a3c3-cbdc41ca0233"
      },
      "execution_count": 5,
      "outputs": [
        {
          "output_type": "execute_result",
          "data": {
            "text/plain": [
              "array([[14.8],\n",
              "       [25. ],\n",
              "       [41.3],\n",
              "       [18.4],\n",
              "       [19.8],\n",
              "       [20.6],\n",
              "       [15. ],\n",
              "       [13.4],\n",
              "       [23.1],\n",
              "       [19.8],\n",
              "       [50. ],\n",
              "       [22. ],\n",
              "       [21.7],\n",
              "       [ 5. ],\n",
              "       [26.7],\n",
              "       [ 8.3],\n",
              "       [16.1],\n",
              "       [20.2],\n",
              "       [28.5],\n",
              "       [20.8],\n",
              "       [29.4],\n",
              "       [24.3],\n",
              "       [18.1],\n",
              "       [22.1],\n",
              "       [24. ],\n",
              "       [39.8],\n",
              "       [18.4],\n",
              "       [27.1],\n",
              "       [23.9],\n",
              "       [24.5],\n",
              "       [21.2],\n",
              "       [19.2],\n",
              "       [20. ],\n",
              "       [29.6],\n",
              "       [19.1],\n",
              "       [10.5],\n",
              "       [28.1],\n",
              "       [29. ],\n",
              "       [20.9],\n",
              "       [20.6],\n",
              "       [30.5],\n",
              "       [22.4],\n",
              "       [33.8],\n",
              "       [16.6],\n",
              "       [28.4],\n",
              "       [19.6],\n",
              "       [28.2],\n",
              "       [13.5],\n",
              "       [17.8],\n",
              "       [14.2],\n",
              "       [ 8.4],\n",
              "       [13.1],\n",
              "       [15.3],\n",
              "       [22.9],\n",
              "       [20.6],\n",
              "       [14.4],\n",
              "       [24.4],\n",
              "       [22.4],\n",
              "       [29.1],\n",
              "       [19.2],\n",
              "       [21. ],\n",
              "       [ 7.4],\n",
              "       [16.3],\n",
              "       [21.7],\n",
              "       [16.6],\n",
              "       [20.3],\n",
              "       [18.7],\n",
              "       [13.6],\n",
              "       [19.5],\n",
              "       [27.5],\n",
              "       [22.7],\n",
              "       [24.5],\n",
              "       [18.9],\n",
              "       [15. ],\n",
              "       [22.8],\n",
              "       [50. ],\n",
              "       [24.8],\n",
              "       [23. ],\n",
              "       [22.8],\n",
              "       [20.6],\n",
              "       [13.8],\n",
              "       [31. ],\n",
              "       [22. ],\n",
              "       [32.4],\n",
              "       [18.5],\n",
              "       [41.7],\n",
              "       [30.7],\n",
              "       [30.1],\n",
              "       [10.4],\n",
              "       [ 8.8],\n",
              "       [23.1],\n",
              "       [28.7],\n",
              "       [43.1],\n",
              "       [23.9],\n",
              "       [23.4],\n",
              "       [13.1],\n",
              "       [24.7],\n",
              "       [16.1],\n",
              "       [31.6],\n",
              "       [24.2],\n",
              "       [26.6],\n",
              "       [30.8],\n",
              "       [20. ],\n",
              "       [17.6],\n",
              "       [24.8],\n",
              "       [30.1],\n",
              "       [35.2],\n",
              "       [10.4],\n",
              "       [ 8.3],\n",
              "       [22.6],\n",
              "       [11.5],\n",
              "       [28.7],\n",
              "       [33.4],\n",
              "       [44.8],\n",
              "       [36.5],\n",
              "       [23.5],\n",
              "       [13.9],\n",
              "       [32.9],\n",
              "       [11.8],\n",
              "       [11.3],\n",
              "       [11.7],\n",
              "       [17.1],\n",
              "       [32. ],\n",
              "       [19.9],\n",
              "       [21.5],\n",
              "       [21.7],\n",
              "       [36. ],\n",
              "       [50. ],\n",
              "       [13.8],\n",
              "       [28. ],\n",
              "       [50. ],\n",
              "       [48.3],\n",
              "       [13.3],\n",
              "       [19.8],\n",
              "       [20.4],\n",
              "       [12.8],\n",
              "       [21.4],\n",
              "       [20.7],\n",
              "       [21.7],\n",
              "       [19.6],\n",
              "       [17.8],\n",
              "       [21.4],\n",
              "       [19.4],\n",
              "       [29.8],\n",
              "       [17.8],\n",
              "       [23.2],\n",
              "       [15.6],\n",
              "       [50. ],\n",
              "       [24.4],\n",
              "       [13.3],\n",
              "       [23. ],\n",
              "       [34.9],\n",
              "       [29.8],\n",
              "       [13.4],\n",
              "       [22.2],\n",
              "       [19.4],\n",
              "       [33.4],\n",
              "       [10.2],\n",
              "       [20.3],\n",
              "       [20.5],\n",
              "       [14.6],\n",
              "       [10.8],\n",
              "       [17.4],\n",
              "       [24.8],\n",
              "       [14.5],\n",
              "       [18.4],\n",
              "       [ 8.7],\n",
              "       [23.2],\n",
              "       [22.3],\n",
              "       [18.9],\n",
              "       [22.5],\n",
              "       [28.4],\n",
              "       [20. ],\n",
              "       [23.1],\n",
              "       [14.6],\n",
              "       [29. ],\n",
              "       [23.1],\n",
              "       [22. ],\n",
              "       [23.3],\n",
              "       [20.9],\n",
              "       [14.3],\n",
              "       [16.8],\n",
              "       [24.1],\n",
              "       [50. ],\n",
              "       [37.6],\n",
              "       [21.9],\n",
              "       [23. ],\n",
              "       [20.7],\n",
              "       [34.9],\n",
              "       [17.7],\n",
              "       [13.3],\n",
              "       [20.1],\n",
              "       [18.5],\n",
              "       [15.6],\n",
              "       [14.5],\n",
              "       [18.3],\n",
              "       [22.2],\n",
              "       [24.1],\n",
              "       [13.6],\n",
              "       [35.4],\n",
              "       [34.6],\n",
              "       [17.5],\n",
              "       [13.1],\n",
              "       [15.2],\n",
              "       [22.8],\n",
              "       [16.7],\n",
              "       [25. ],\n",
              "       [45.4],\n",
              "       [37.2],\n",
              "       [20.6],\n",
              "       [16.1],\n",
              "       [15.4],\n",
              "       [19. ],\n",
              "       [46.7],\n",
              "       [20. ],\n",
              "       [19.7],\n",
              "       [13.2],\n",
              "       [31.2],\n",
              "       [ 6.3],\n",
              "       [25. ],\n",
              "       [ 8.5],\n",
              "       [18.2],\n",
              "       [18.3],\n",
              "       [25.3],\n",
              "       [36.1],\n",
              "       [20.5],\n",
              "       [12.7],\n",
              "       [13.8],\n",
              "       [23.7],\n",
              "       [18.2],\n",
              "       [20.5],\n",
              "       [33. ],\n",
              "       [44. ],\n",
              "       [23.6],\n",
              "       [21.6],\n",
              "       [ 7. ],\n",
              "       [21.2],\n",
              "       [35.1],\n",
              "       [19.6],\n",
              "       [16.5],\n",
              "       [38.7],\n",
              "       [17.8],\n",
              "       [12.3],\n",
              "       [23.3],\n",
              "       [22.2],\n",
              "       [23.3],\n",
              "       [18.9],\n",
              "       [13.1],\n",
              "       [14.9],\n",
              "       [17.1],\n",
              "       [ 7.5],\n",
              "       [18.6],\n",
              "       [30.1],\n",
              "       [16.4],\n",
              "       [15.6],\n",
              "       [19.4],\n",
              "       [20.3],\n",
              "       [18.6],\n",
              "       [22.9],\n",
              "       [21.6],\n",
              "       [17.2],\n",
              "       [ 9.5],\n",
              "       [11.9],\n",
              "       [46. ],\n",
              "       [17.8],\n",
              "       [20.1],\n",
              "       [19.4],\n",
              "       [23.4],\n",
              "       [13.9],\n",
              "       [19.1],\n",
              "       [13. ],\n",
              "       [23.7],\n",
              "       [13.4],\n",
              "       [24.4],\n",
              "       [18.8],\n",
              "       [50. ],\n",
              "       [50. ],\n",
              "       [20.1],\n",
              "       [17.5],\n",
              "       [17.5],\n",
              "       [14.1],\n",
              "       [21.1],\n",
              "       [25. ],\n",
              "       [21.9],\n",
              "       [16.7],\n",
              "       [19.3],\n",
              "       [22. ],\n",
              "       [19.3],\n",
              "       [21.2],\n",
              "       [24.7],\n",
              "       [26.4],\n",
              "       [12.7],\n",
              "       [20.1],\n",
              "       [22. ],\n",
              "       [22.6],\n",
              "       [25.2],\n",
              "       [50. ],\n",
              "       [ 8.5],\n",
              "       [10.9],\n",
              "       [19.5],\n",
              "       [30.3],\n",
              "       [14.4],\n",
              "       [10.5],\n",
              "       [23.2],\n",
              "       [15.6],\n",
              "       [ 5. ],\n",
              "       [50. ],\n",
              "       [19. ],\n",
              "       [22.6],\n",
              "       [19.9],\n",
              "       [ 9.6],\n",
              "       [29.9],\n",
              "       [19.4],\n",
              "       [23.8],\n",
              "       [42.8],\n",
              "       [28.7],\n",
              "       [17.3],\n",
              "       [24.3],\n",
              "       [20.8],\n",
              "       [15.7],\n",
              "       [31.7],\n",
              "       [17.2],\n",
              "       [23.3],\n",
              "       [11.9],\n",
              "       [32.5],\n",
              "       [13.8],\n",
              "       [50. ],\n",
              "       [18.5],\n",
              "       [15.2],\n",
              "       [20.4],\n",
              "       [19.3],\n",
              "       [ 7.2],\n",
              "       [26.4],\n",
              "       [17.1],\n",
              "       [24.4],\n",
              "       [48.8],\n",
              "       [33.1],\n",
              "       [10.9],\n",
              "       [50. ],\n",
              "       [18.7],\n",
              "       [35.4],\n",
              "       [23.1],\n",
              "       [21.7],\n",
              "       [21.8],\n",
              "       [22. ],\n",
              "       [22.9],\n",
              "       [25. ],\n",
              "       [11.8],\n",
              "       [26.6],\n",
              "       [17.9],\n",
              "       [20.2],\n",
              "       [24.8],\n",
              "       [ 8.8],\n",
              "       [21. ],\n",
              "       [23.7],\n",
              "       [23.9],\n",
              "       [13.5],\n",
              "       [50. ],\n",
              "       [18.7],\n",
              "       [12. ],\n",
              "       [19.9],\n",
              "       [21. ],\n",
              "       [21.2],\n",
              "       [17.4],\n",
              "       [23.7],\n",
              "       [26.6],\n",
              "       [15.6],\n",
              "       [16.8],\n",
              "       [21.2],\n",
              "       [13.4],\n",
              "       [37.9],\n",
              "       [12.5],\n",
              "       [ 5.6],\n",
              "       [43.8],\n",
              "       [22.9],\n",
              "       [ 7.2],\n",
              "       [23.6],\n",
              "       [23.9],\n",
              "       [20.3],\n",
              "       [27.5],\n",
              "       [29.1],\n",
              "       [21.4],\n",
              "       [23.9],\n",
              "       [31.5],\n",
              "       [32.7],\n",
              "       [22.6],\n",
              "       [17.4],\n",
              "       [32.2],\n",
              "       [27. ],\n",
              "       [36.2],\n",
              "       [15.4],\n",
              "       [17.2],\n",
              "       [26.5],\n",
              "       [23. ],\n",
              "       [33.2],\n",
              "       [27.9],\n",
              "       [24.7],\n",
              "       [19.5],\n",
              "       [20.4],\n",
              "       [22.5]])"
            ]
          },
          "metadata": {},
          "execution_count": 5
        }
      ]
    },
    {
      "cell_type": "code",
      "source": [
        "phi_test=np.loadtxt(\"/content/test.csv\",skiprows=1,delimiter=',',usecols=tuple(range(1,14)))"
      ],
      "metadata": {
        "id": "7MB8k9sZ5h8m"
      },
      "execution_count": 6,
      "outputs": []
    },
    {
      "cell_type": "code",
      "source": [
        "len(phi_test)"
      ],
      "metadata": {
        "colab": {
          "base_uri": "https://localhost:8080/"
        },
        "id": "xEDJWilt7aYk",
        "outputId": "c457a275-faef-49e9-87f9-8d113fbee2b9"
      },
      "execution_count": 7,
      "outputs": [
        {
          "output_type": "execute_result",
          "data": {
            "text/plain": [
              "105"
            ]
          },
          "metadata": {},
          "execution_count": 7
        }
      ]
    },
    {
      "cell_type": "markdown",
      "source": [
        "Concatenate coloumn of 1s to right of phi and phi_test\n"
      ],
      "metadata": {
        "id": "Cma24tb3YU_9"
      }
    },
    {
      "cell_type": "code",
      "source": [
        "phi=np.concatenate((phi,np.ones((len(phi),1))),axis=1)\n",
        "phi_test=np.concatenate((phi_test,np.ones((len(phi_test),1))),axis=1)"
      ],
      "metadata": {
        "id": "lQ1gKO5FYUAX"
      },
      "execution_count": 8,
      "outputs": []
    },
    {
      "cell_type": "code",
      "source": [
        "phi"
      ],
      "metadata": {
        "colab": {
          "base_uri": "https://localhost:8080/"
        },
        "id": "3qLb5i4RlT1k",
        "outputId": "719d2ca8-8b4d-49b5-c508-d9dd22058e51"
      },
      "execution_count": 9,
      "outputs": [
        {
          "output_type": "execute_result",
          "data": {
            "text/plain": [
              "array([[9.55770e-01, 0.00000e+00, 8.14000e+00, ..., 3.06380e+02,\n",
              "        1.72800e+01, 1.00000e+00],\n",
              "       [2.87500e-02, 2.80000e+01, 1.50400e+01, ..., 3.96330e+02,\n",
              "        6.21000e+00, 1.00000e+00],\n",
              "       [1.22358e+00, 0.00000e+00, 1.95800e+01, ..., 3.63430e+02,\n",
              "        4.59000e+00, 1.00000e+00],\n",
              "       ...,\n",
              "       [6.65492e+00, 0.00000e+00, 1.81000e+01, ..., 3.96900e+02,\n",
              "        1.39900e+01, 1.00000e+00],\n",
              "       [1.31170e-01, 0.00000e+00, 8.56000e+00, ..., 3.87690e+02,\n",
              "        1.40900e+01, 1.00000e+00],\n",
              "       [6.46600e-02, 7.00000e+01, 2.24000e+00, ..., 3.68240e+02,\n",
              "        4.97000e+00, 1.00000e+00]])"
            ]
          },
          "metadata": {},
          "execution_count": 9
        }
      ]
    },
    {
      "cell_type": "markdown",
      "source": [
        "Apply min max scaling on each coloumn of phi and phi_test"
      ],
      "metadata": {
        "id": "Z4Ms6iZGfUmY"
      }
    },
    {
      "cell_type": "code",
      "source": [
        "def mmscale(phi,phi_test):\n",
        "   for i in range(0,(phi.shape[1]-1)):\n",
        "     c_max=np.max(phi[:,i])\n",
        "     c_min=np.min(phi[:,i])\n",
        "     phi[:,i]=(phi[:,i]-c_min)/(c_max-c_min)\n",
        "     phi_test[:,i]=(phi_test[:,i]-c_min)/(c_max-c_min)\n",
        "mmscale(phi,phi_test)\n"
      ],
      "metadata": {
        "id": "LbZJK4dtfXio"
      },
      "execution_count": 10,
      "outputs": []
    },
    {
      "cell_type": "markdown",
      "source": [
        "Apply log scaling on y"
      ],
      "metadata": {
        "id": "WeJJp5nEn1Yf"
      }
    },
    {
      "cell_type": "code",
      "source": [
        "y=np.log(y)"
      ],
      "metadata": {
        "id": "3LFG2qZ9n18_"
      },
      "execution_count": 11,
      "outputs": []
    },
    {
      "cell_type": "markdown",
      "source": [
        "Define a function to calculate change in error function based on phi, w and p norm\n"
      ],
      "metadata": {
        "id": "y3cBrS7TpXtf"
      }
    },
    {
      "cell_type": "code",
      "source": [
        "def delta_w(p, phi, w):\n",
        "    if p == 2:\n",
        "        deltaw = (2 * (np.dot(np.dot(np.transpose(phi), phi), w) -\n",
        "                       np.dot(np.transpose(phi), y)) +\n",
        "                  lambd * p * np.power(np.absolute(w), (p - 1)))\n",
        "    if p < 2 and p > 1:\n",
        "        deltaw = (2 * (np.dot(np.dot(np.transpose(phi), phi), w) -\n",
        "                       np.dot(np.transpose(phi), y)) +\n",
        "                  lambd * p * np.power(np.absolute(w), (p - 1)) * np.sign(w))\n",
        "    return deltaw"
      ],
      "metadata": {
        "id": "ksN4B8jcpbg3"
      },
      "execution_count": 17,
      "outputs": []
    },
    {
      "cell_type": "markdown",
      "source": [
        "Making a dictionary containing filenames as keys and p as values"
      ],
      "metadata": {
        "id": "DrGJ_UO5bJBb"
      }
    },
    {
      "cell_type": "code",
      "source": [
        "filenames = {'output.csv': 2.0,\n",
        "             'output_p1.csv': 1.75,\n",
        "             'output_p2.csv': 1.5,\n",
        "             'output_p3.csv': 1.3\n",
        "             }"
      ],
      "metadata": {
        "id": "CddGAsq4bHo-"
      },
      "execution_count": 18,
      "outputs": []
    },
    {
      "cell_type": "markdown",
      "source": [
        "For each item in this dictionary\n",
        "\n",
        "Set the w to all 0s"
      ],
      "metadata": {
        "id": "1DqKb-rGbaat"
      }
    },
    {
      "cell_type": "code",
      "source": [
        "for (fname, p) in filenames.items():\n",
        "       w = np.zeros((14, 1))\n",
        "       #Set an appropriate value for lambda and step size\n",
        "\n",
        "       lambd = 0.2\n",
        "       t = 0.00012\n",
        "       #Calculate new value of w\n",
        "       w_new = w - t * delta_w(p, phi, w)\n",
        "       #Repeat steps until error between consecutive ws is less than threshold\n",
        "       i = 0\n",
        "       # Repeat steps until error between consecutive w is less than threshold\n",
        "       while(np.linalg.norm(w_new-w) > 10 ** -10):\n",
        "         w = w_new\n",
        "         w_new = w - t * delta_w(p, phi, w)\n",
        "         i = i + 1\n",
        "       \n",
        "       # Load values of id\n",
        "       id_test = np.loadtxt('/content/test.csv', dtype='int', delimiter=',',skiprows=1, usecols=0, ndmin=2)\n",
        "       # Calculate y for test data\n",
        "       y_test = np.exp(np.dot(phi_test, w_new))\n",
        "\n",
        "       # Save the ids and y\n",
        "       np.savetxt(fname, np.concatenate((id_test, y_test), axis=1),\n",
        "               delimiter=',', fmt=['%d', '%f'], header='ID,MEDV', comments='')\n",
        "\n"
      ],
      "metadata": {
        "id": "Ncig1lO2ba90"
      },
      "execution_count": 23,
      "outputs": []
    }
  ]
}