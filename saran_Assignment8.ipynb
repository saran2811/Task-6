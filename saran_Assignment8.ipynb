{
  "cells": [
    {
      "cell_type": "markdown",
      "metadata": {
        "id": "view-in-github",
        "colab_type": "text"
      },
      "source": [
        "<a href=\"https://colab.research.google.com/github/saran2811/Task-6/blob/main/saran_Assignment8.ipynb\" target=\"_parent\"><img src=\"https://colab.research.google.com/assets/colab-badge.svg\" alt=\"Open In Colab\"/></a>"
      ]
    },
    {
      "cell_type": "markdown",
      "metadata": {
        "id": "BEdbeA_2gpup"
      },
      "source": [
        "\n",
        "# Assignment8"
      ]
    },
    {
      "cell_type": "code",
      "execution_count": null,
      "metadata": {
        "collapsed": true,
        "id": "1MAd99Tigpuu"
      },
      "outputs": [],
      "source": [
        "import pandas as pd\n",
        "import matplotlib.pyplot as plt\n",
        "import numpy as np\n",
        "from sklearn import linear_model\n",
        "import itertools as it"
      ]
    },
    {
      "cell_type": "markdown",
      "metadata": {
        "id": "GgegXPw2gpuw"
      },
      "source": [
        "# How Much is Your Car Worth?\n",
        "\n",
        "Data about the retail price of 2005 General Motors cars can be found in `car_data.csv`.\n",
        "\n",
        "The columns are:\n",
        "\n",
        "1. Price: suggested retail price of the used 2005 GM car in excellent condition.\n",
        "2. Mileage: number of miles the car has been driven\n",
        "3. Make: manufacturer of the car such as Saturn, Pontiac, and Chevrolet\n",
        "4. Model: specific models for each car manufacturer such as Ion, Vibe, Cavalier\n",
        "5. Trim (of car): specific type of car model such as SE Sedan 4D, Quad Coupe 2D          \n",
        "6. Type: body type such as sedan, coupe, etc.      \n",
        "7. Cylinder: number of cylinders in the engine        \n",
        "8. Liter: a more specific measure of engine size     \n",
        "9. Doors: number of doors           \n",
        "10. Cruise: indicator variable representing whether the car has cruise control (1 = cruise)\n",
        "11. Sound: indicator variable representing whether the car has upgraded speakers (1 = upgraded)\n",
        "12. Leather: indicator variable representing whether the car has leather seats (1 = leather)\n",
        "\n",
        "## Tasks, Part 1\n",
        "\n",
        "1. Find the linear regression equation for mileage vs price.\n",
        "2. Chart the original data and the equation on the chart.\n",
        "3. Find the equation's $R^2$ score (use the `.score` method) to determine whether the\n",
        "equation is a good fit for this data. (0.8 and greater is considered a strong correlation.)\n",
        "\n",
        "## Tasks, Part 2\n",
        "\n",
        "1. Use mileage, cylinders, liters, doors, cruise, sound, and leather to find the linear regression equation.\n",
        "2. Find the equation's $R^2$ score (use the `.score` method) to determine whether the\n",
        "equation is a good fit for this data. (0.8 and greater is considered a strong correlation.)\n",
        "3. Find the combination of the factors that is the best predictor for price.\n",
        "\n",
        "## Tasks, Hard Mode\n",
        "\n",
        "1. Research dummy variables in scikit-learn to see how to use the make, model, and body type.\n",
        "2. Find the best combination of factors to predict price."
      ]
    },
    {
      "cell_type": "code",
      "execution_count": null,
      "metadata": {
        "id": "fUz6p5wHgpux",
        "colab": {
          "base_uri": "https://localhost:8080/",
          "height": 206
        },
        "outputId": "3156ed6b-7d02-4a70-a418-a826ea808d74"
      },
      "outputs": [
        {
          "output_type": "execute_result",
          "data": {
            "text/plain": [
              "          Price  Mileage   Make    Model      Trim   Type  Cylinder  Liter  \\\n",
              "0  17314.103129     8221  Buick  Century  Sedan 4D  Sedan         6    3.1   \n",
              "1  17542.036083     9135  Buick  Century  Sedan 4D  Sedan         6    3.1   \n",
              "2  16218.847862    13196  Buick  Century  Sedan 4D  Sedan         6    3.1   \n",
              "3  16336.913140    16342  Buick  Century  Sedan 4D  Sedan         6    3.1   \n",
              "4  16339.170324    19832  Buick  Century  Sedan 4D  Sedan         6    3.1   \n",
              "\n",
              "   Doors  Cruise  Sound  Leather  \n",
              "0      4       1      1        1  \n",
              "1      4       1      1        0  \n",
              "2      4       1      1        0  \n",
              "3      4       1      0        0  \n",
              "4      4       1      0        1  "
            ],
            "text/html": [
              "\n",
              "  <div id=\"df-dd66b4b6-2dd4-42e4-a0a2-7d019952c90f\">\n",
              "    <div class=\"colab-df-container\">\n",
              "      <div>\n",
              "<style scoped>\n",
              "    .dataframe tbody tr th:only-of-type {\n",
              "        vertical-align: middle;\n",
              "    }\n",
              "\n",
              "    .dataframe tbody tr th {\n",
              "        vertical-align: top;\n",
              "    }\n",
              "\n",
              "    .dataframe thead th {\n",
              "        text-align: right;\n",
              "    }\n",
              "</style>\n",
              "<table border=\"1\" class=\"dataframe\">\n",
              "  <thead>\n",
              "    <tr style=\"text-align: right;\">\n",
              "      <th></th>\n",
              "      <th>Price</th>\n",
              "      <th>Mileage</th>\n",
              "      <th>Make</th>\n",
              "      <th>Model</th>\n",
              "      <th>Trim</th>\n",
              "      <th>Type</th>\n",
              "      <th>Cylinder</th>\n",
              "      <th>Liter</th>\n",
              "      <th>Doors</th>\n",
              "      <th>Cruise</th>\n",
              "      <th>Sound</th>\n",
              "      <th>Leather</th>\n",
              "    </tr>\n",
              "  </thead>\n",
              "  <tbody>\n",
              "    <tr>\n",
              "      <th>0</th>\n",
              "      <td>17314.103129</td>\n",
              "      <td>8221</td>\n",
              "      <td>Buick</td>\n",
              "      <td>Century</td>\n",
              "      <td>Sedan 4D</td>\n",
              "      <td>Sedan</td>\n",
              "      <td>6</td>\n",
              "      <td>3.1</td>\n",
              "      <td>4</td>\n",
              "      <td>1</td>\n",
              "      <td>1</td>\n",
              "      <td>1</td>\n",
              "    </tr>\n",
              "    <tr>\n",
              "      <th>1</th>\n",
              "      <td>17542.036083</td>\n",
              "      <td>9135</td>\n",
              "      <td>Buick</td>\n",
              "      <td>Century</td>\n",
              "      <td>Sedan 4D</td>\n",
              "      <td>Sedan</td>\n",
              "      <td>6</td>\n",
              "      <td>3.1</td>\n",
              "      <td>4</td>\n",
              "      <td>1</td>\n",
              "      <td>1</td>\n",
              "      <td>0</td>\n",
              "    </tr>\n",
              "    <tr>\n",
              "      <th>2</th>\n",
              "      <td>16218.847862</td>\n",
              "      <td>13196</td>\n",
              "      <td>Buick</td>\n",
              "      <td>Century</td>\n",
              "      <td>Sedan 4D</td>\n",
              "      <td>Sedan</td>\n",
              "      <td>6</td>\n",
              "      <td>3.1</td>\n",
              "      <td>4</td>\n",
              "      <td>1</td>\n",
              "      <td>1</td>\n",
              "      <td>0</td>\n",
              "    </tr>\n",
              "    <tr>\n",
              "      <th>3</th>\n",
              "      <td>16336.913140</td>\n",
              "      <td>16342</td>\n",
              "      <td>Buick</td>\n",
              "      <td>Century</td>\n",
              "      <td>Sedan 4D</td>\n",
              "      <td>Sedan</td>\n",
              "      <td>6</td>\n",
              "      <td>3.1</td>\n",
              "      <td>4</td>\n",
              "      <td>1</td>\n",
              "      <td>0</td>\n",
              "      <td>0</td>\n",
              "    </tr>\n",
              "    <tr>\n",
              "      <th>4</th>\n",
              "      <td>16339.170324</td>\n",
              "      <td>19832</td>\n",
              "      <td>Buick</td>\n",
              "      <td>Century</td>\n",
              "      <td>Sedan 4D</td>\n",
              "      <td>Sedan</td>\n",
              "      <td>6</td>\n",
              "      <td>3.1</td>\n",
              "      <td>4</td>\n",
              "      <td>1</td>\n",
              "      <td>0</td>\n",
              "      <td>1</td>\n",
              "    </tr>\n",
              "  </tbody>\n",
              "</table>\n",
              "</div>\n",
              "      <button class=\"colab-df-convert\" onclick=\"convertToInteractive('df-dd66b4b6-2dd4-42e4-a0a2-7d019952c90f')\"\n",
              "              title=\"Convert this dataframe to an interactive table.\"\n",
              "              style=\"display:none;\">\n",
              "        \n",
              "  <svg xmlns=\"http://www.w3.org/2000/svg\" height=\"24px\"viewBox=\"0 0 24 24\"\n",
              "       width=\"24px\">\n",
              "    <path d=\"M0 0h24v24H0V0z\" fill=\"none\"/>\n",
              "    <path d=\"M18.56 5.44l.94 2.06.94-2.06 2.06-.94-2.06-.94-.94-2.06-.94 2.06-2.06.94zm-11 1L8.5 8.5l.94-2.06 2.06-.94-2.06-.94L8.5 2.5l-.94 2.06-2.06.94zm10 10l.94 2.06.94-2.06 2.06-.94-2.06-.94-.94-2.06-.94 2.06-2.06.94z\"/><path d=\"M17.41 7.96l-1.37-1.37c-.4-.4-.92-.59-1.43-.59-.52 0-1.04.2-1.43.59L10.3 9.45l-7.72 7.72c-.78.78-.78 2.05 0 2.83L4 21.41c.39.39.9.59 1.41.59.51 0 1.02-.2 1.41-.59l7.78-7.78 2.81-2.81c.8-.78.8-2.07 0-2.86zM5.41 20L4 18.59l7.72-7.72 1.47 1.35L5.41 20z\"/>\n",
              "  </svg>\n",
              "      </button>\n",
              "      \n",
              "  <style>\n",
              "    .colab-df-container {\n",
              "      display:flex;\n",
              "      flex-wrap:wrap;\n",
              "      gap: 12px;\n",
              "    }\n",
              "\n",
              "    .colab-df-convert {\n",
              "      background-color: #E8F0FE;\n",
              "      border: none;\n",
              "      border-radius: 50%;\n",
              "      cursor: pointer;\n",
              "      display: none;\n",
              "      fill: #1967D2;\n",
              "      height: 32px;\n",
              "      padding: 0 0 0 0;\n",
              "      width: 32px;\n",
              "    }\n",
              "\n",
              "    .colab-df-convert:hover {\n",
              "      background-color: #E2EBFA;\n",
              "      box-shadow: 0px 1px 2px rgba(60, 64, 67, 0.3), 0px 1px 3px 1px rgba(60, 64, 67, 0.15);\n",
              "      fill: #174EA6;\n",
              "    }\n",
              "\n",
              "    [theme=dark] .colab-df-convert {\n",
              "      background-color: #3B4455;\n",
              "      fill: #D2E3FC;\n",
              "    }\n",
              "\n",
              "    [theme=dark] .colab-df-convert:hover {\n",
              "      background-color: #434B5C;\n",
              "      box-shadow: 0px 1px 3px 1px rgba(0, 0, 0, 0.15);\n",
              "      filter: drop-shadow(0px 1px 2px rgba(0, 0, 0, 0.3));\n",
              "      fill: #FFFFFF;\n",
              "    }\n",
              "  </style>\n",
              "\n",
              "      <script>\n",
              "        const buttonEl =\n",
              "          document.querySelector('#df-dd66b4b6-2dd4-42e4-a0a2-7d019952c90f button.colab-df-convert');\n",
              "        buttonEl.style.display =\n",
              "          google.colab.kernel.accessAllowed ? 'block' : 'none';\n",
              "\n",
              "        async function convertToInteractive(key) {\n",
              "          const element = document.querySelector('#df-dd66b4b6-2dd4-42e4-a0a2-7d019952c90f');\n",
              "          const dataTable =\n",
              "            await google.colab.kernel.invokeFunction('convertToInteractive',\n",
              "                                                     [key], {});\n",
              "          if (!dataTable) return;\n",
              "\n",
              "          const docLinkHtml = 'Like what you see? Visit the ' +\n",
              "            '<a target=\"_blank\" href=https://colab.research.google.com/notebooks/data_table.ipynb>data table notebook</a>'\n",
              "            + ' to learn more about interactive tables.';\n",
              "          element.innerHTML = '';\n",
              "          dataTable['output_type'] = 'display_data';\n",
              "          await google.colab.output.renderOutput(dataTable, element);\n",
              "          const docLink = document.createElement('div');\n",
              "          docLink.innerHTML = docLinkHtml;\n",
              "          element.appendChild(docLink);\n",
              "        }\n",
              "      </script>\n",
              "    </div>\n",
              "  </div>\n",
              "  "
            ]
          },
          "metadata": {},
          "execution_count": 2
        }
      ],
      "source": [
        "df = pd.read_csv(\"car_data.csv\")\n",
        "df.head()"
      ]
    },
    {
      "cell_type": "markdown",
      "source": [
        "$\\color{blue}{\\text{**Task 1.\n",
        "1. Find the linear regression equation for mileage vs price. **}}$"
      ],
      "metadata": {
        "id": "nKIqYMEuPRKo"
      }
    },
    {
      "cell_type": "code",
      "source": [
        "x_m=df[['Mileage']]\n",
        "y_m=df['Price']"
      ],
      "metadata": {
        "id": "-uR4Wve7PtYn"
      },
      "execution_count": null,
      "outputs": []
    },
    {
      "cell_type": "code",
      "source": [
        "mil_reg=linear_model.LinearRegression().fit(x_m,y_m)\n",
        "m=mil_reg.coef_[0]\n",
        "c=mil_reg.intercept_"
      ],
      "metadata": {
        "id": "11bOnOODP7Xc"
      },
      "execution_count": null,
      "outputs": []
    },
    {
      "cell_type": "code",
      "source": [
        "print(f'Linear regression equation is (price)y = {m:.4f} * Mileage + {c:.4f}')"
      ],
      "metadata": {
        "colab": {
          "base_uri": "https://localhost:8080/"
        },
        "id": "nXhwr4X1Q7Ys",
        "outputId": "0fa2bad4-429e-4f9d-d384-4c3ae45133a5"
      },
      "execution_count": null,
      "outputs": [
        {
          "output_type": "stream",
          "name": "stdout",
          "text": [
            "Linear regression equation is (price)y = -0.1725 * Mileage + 24764.5590\n"
          ]
        }
      ]
    },
    {
      "cell_type": "markdown",
      "source": [
        "\n",
        "$\\color{blue}{\\text{Task1.2.Chart the original data and the equation on the chart.}}$"
      ],
      "metadata": {
        "id": "7NIbjVknS1-P"
      }
    },
    {
      "cell_type": "code",
      "source": [
        "pr_pred=mil_reg.predict(x_m)"
      ],
      "metadata": {
        "id": "Z_0zNv3nSoG0"
      },
      "execution_count": null,
      "outputs": []
    },
    {
      "cell_type": "code",
      "source": [
        "plt.scatter(x_m,y_m)\n",
        "plt.plot(x_m,pr_pred,color='red')\n",
        "plt.title('Mileage vs Price')\n",
        "plt.xlabel('Mileage')\n",
        "plt.ylabel('Price')\n",
        "plt.show()"
      ],
      "metadata": {
        "colab": {
          "base_uri": "https://localhost:8080/",
          "height": 295
        },
        "id": "DOxG1AF1TQk6",
        "outputId": "7236eb69-65f9-4bc0-a817-edb6fad51ac6"
      },
      "execution_count": null,
      "outputs": [
        {
          "output_type": "display_data",
          "data": {
            "text/plain": [
              "<Figure size 432x288 with 1 Axes>"
            ],
            "image/png": "[encoded data removed]"
          },
          "metadata": {
            "needs_background": "light"
          }
        }
      ]
    },
    {
      "cell_type": "markdown",
      "source": [
        "$\\color{blue}{\\text{Task 1.3. Find the equation's $R^2$ score (use the `.score` method) to determine whether the}}$$\\color{blue}{\\text{\n",
        "equation is a good fit for this data. (0.8 and greater is considered a strong correlation.)}}$"
      ],
      "metadata": {
        "id": "sGfOFKQCT6nG"
      }
    },
    {
      "cell_type": "code",
      "source": [
        "rscore=mil_reg.score(x_m,y_m)\n",
        "print('R^2 score for this equation : {:.4f}'.format(rscore),'\\n\\n')\n",
        "if rscore>=0.8:\n",
        "  print('Equation is fit beacause R^2 value is above 0.8')\n",
        "else:\n",
        "  print('Equation is not a good fit because R^2 value is below 0.8')"
      ],
      "metadata": {
        "colab": {
          "base_uri": "https://localhost:8080/"
        },
        "id": "tGnc0bFYTqx0",
        "outputId": "97e8c8a1-6e6b-4f5e-df03-2ec98c5391cc"
      },
      "execution_count": null,
      "outputs": [
        {
          "output_type": "stream",
          "name": "stdout",
          "text": [
            "R^2 score for this equation : 0.0205 \n",
            "\n",
            "\n",
            "Equation is not a good fit because R^2 value is below 0.8\n"
          ]
        }
      ]
    },
    {
      "cell_type": "markdown",
      "source": [
        "$\\color{blue}{\\text{**Task 2.1. Use mileage, cylinders, liters, doors, cruise, sound, and leather to find the linear regression equation.**}}$"
      ],
      "metadata": {
        "id": "ZF9qfpf8UWud"
      }
    },
    {
      "cell_type": "code",
      "source": [
        "df.head()"
      ],
      "metadata": {
        "colab": {
          "base_uri": "https://localhost:8080/",
          "height": 206
        },
        "id": "WY-yb05-UhcD",
        "outputId": "367abedb-f541-4ef9-a500-6185932ed037"
      },
      "execution_count": null,
      "outputs": [
        {
          "output_type": "execute_result",
          "data": {
            "text/plain": [
              "          Price  Mileage   Make    Model      Trim   Type  Cylinder  Liter  \\\n",
              "0  17314.103129     8221  Buick  Century  Sedan 4D  Sedan         6    3.1   \n",
              "1  17542.036083     9135  Buick  Century  Sedan 4D  Sedan         6    3.1   \n",
              "2  16218.847862    13196  Buick  Century  Sedan 4D  Sedan         6    3.1   \n",
              "3  16336.913140    16342  Buick  Century  Sedan 4D  Sedan         6    3.1   \n",
              "4  16339.170324    19832  Buick  Century  Sedan 4D  Sedan         6    3.1   \n",
              "\n",
              "   Doors  Cruise  Sound  Leather  \n",
              "0      4       1      1        1  \n",
              "1      4       1      1        0  \n",
              "2      4       1      1        0  \n",
              "3      4       1      0        0  \n",
              "4      4       1      0        1  "
            ],
            "text/html": [
              "\n",
              "  <div id=\"df-19fe6ac6-32d3-4d23-a6e5-8bb6441e6b62\">\n",
              "    <div class=\"colab-df-container\">\n",
              "      <div>\n",
              "<style scoped>\n",
              "    .dataframe tbody tr th:only-of-type {\n",
              "        vertical-align: middle;\n",
              "    }\n",
              "\n",
              "    .dataframe tbody tr th {\n",
              "        vertical-align: top;\n",
              "    }\n",
              "\n",
              "    .dataframe thead th {\n",
              "        text-align: right;\n",
              "    }\n",
              "</style>\n",
              "<table border=\"1\" class=\"dataframe\">\n",
              "  <thead>\n",
              "    <tr style=\"text-align: right;\">\n",
              "      <th></th>\n",
              "      <th>Price</th>\n",
              "      <th>Mileage</th>\n",
              "      <th>Make</th>\n",
              "      <th>Model</th>\n",
              "      <th>Trim</th>\n",
              "      <th>Type</th>\n",
              "      <th>Cylinder</th>\n",
              "      <th>Liter</th>\n",
              "      <th>Doors</th>\n",
              "      <th>Cruise</th>\n",
              "      <th>Sound</th>\n",
              "      <th>Leather</th>\n",
              "    </tr>\n",
              "  </thead>\n",
              "  <tbody>\n",
              "    <tr>\n",
              "      <th>0</th>\n",
              "      <td>17314.103129</td>\n",
              "      <td>8221</td>\n",
              "      <td>Buick</td>\n",
              "      <td>Century</td>\n",
              "      <td>Sedan 4D</td>\n",
              "      <td>Sedan</td>\n",
              "      <td>6</td>\n",
              "      <td>3.1</td>\n",
              "      <td>4</td>\n",
              "      <td>1</td>\n",
              "      <td>1</td>\n",
              "      <td>1</td>\n",
              "    </tr>\n",
              "    <tr>\n",
              "      <th>1</th>\n",
              "      <td>17542.036083</td>\n",
              "      <td>9135</td>\n",
              "      <td>Buick</td>\n",
              "      <td>Century</td>\n",
              "      <td>Sedan 4D</td>\n",
              "      <td>Sedan</td>\n",
              "      <td>6</td>\n",
              "      <td>3.1</td>\n",
              "      <td>4</td>\n",
              "      <td>1</td>\n",
              "      <td>1</td>\n",
              "      <td>0</td>\n",
              "    </tr>\n",
              "    <tr>\n",
              "      <th>2</th>\n",
              "      <td>16218.847862</td>\n",
              "      <td>13196</td>\n",
              "      <td>Buick</td>\n",
              "      <td>Century</td>\n",
              "      <td>Sedan 4D</td>\n",
              "      <td>Sedan</td>\n",
              "      <td>6</td>\n",
              "      <td>3.1</td>\n",
              "      <td>4</td>\n",
              "      <td>1</td>\n",
              "      <td>1</td>\n",
              "      <td>0</td>\n",
              "    </tr>\n",
              "    <tr>\n",
              "      <th>3</th>\n",
              "      <td>16336.913140</td>\n",
              "      <td>16342</td>\n",
              "      <td>Buick</td>\n",
              "      <td>Century</td>\n",
              "      <td>Sedan 4D</td>\n",
              "      <td>Sedan</td>\n",
              "      <td>6</td>\n",
              "      <td>3.1</td>\n",
              "      <td>4</td>\n",
              "      <td>1</td>\n",
              "      <td>0</td>\n",
              "      <td>0</td>\n",
              "    </tr>\n",
              "    <tr>\n",
              "      <th>4</th>\n",
              "      <td>16339.170324</td>\n",
              "      <td>19832</td>\n",
              "      <td>Buick</td>\n",
              "      <td>Century</td>\n",
              "      <td>Sedan 4D</td>\n",
              "      <td>Sedan</td>\n",
              "      <td>6</td>\n",
              "      <td>3.1</td>\n",
              "      <td>4</td>\n",
              "      <td>1</td>\n",
              "      <td>0</td>\n",
              "      <td>1</td>\n",
              "    </tr>\n",
              "  </tbody>\n",
              "</table>\n",
              "</div>\n",
              "      <button class=\"colab-df-convert\" onclick=\"convertToInteractive('df-19fe6ac6-32d3-4d23-a6e5-8bb6441e6b62')\"\n",
              "              title=\"Convert this dataframe to an interactive table.\"\n",
              "              style=\"display:none;\">\n",
              "        \n",
              "  <svg xmlns=\"http://www.w3.org/2000/svg\" height=\"24px\"viewBox=\"0 0 24 24\"\n",
              "       width=\"24px\">\n",
              "    <path d=\"M0 0h24v24H0V0z\" fill=\"none\"/>\n",
              "    <path d=\"M18.56 5.44l.94 2.06.94-2.06 2.06-.94-2.06-.94-.94-2.06-.94 2.06-2.06.94zm-11 1L8.5 8.5l.94-2.06 2.06-.94-2.06-.94L8.5 2.5l-.94 2.06-2.06.94zm10 10l.94 2.06.94-2.06 2.06-.94-2.06-.94-.94-2.06-.94 2.06-2.06.94z\"/><path d=\"M17.41 7.96l-1.37-1.37c-.4-.4-.92-.59-1.43-.59-.52 0-1.04.2-1.43.59L10.3 9.45l-7.72 7.72c-.78.78-.78 2.05 0 2.83L4 21.41c.39.39.9.59 1.41.59.51 0 1.02-.2 1.41-.59l7.78-7.78 2.81-2.81c.8-.78.8-2.07 0-2.86zM5.41 20L4 18.59l7.72-7.72 1.47 1.35L5.41 20z\"/>\n",
              "  </svg>\n",
              "      </button>\n",
              "      \n",
              "  <style>\n",
              "    .colab-df-container {\n",
              "      display:flex;\n",
              "      flex-wrap:wrap;\n",
              "      gap: 12px;\n",
              "    }\n",
              "\n",
              "    .colab-df-convert {\n",
              "      background-color: #E8F0FE;\n",
              "      border: none;\n",
              "      border-radius: 50%;\n",
              "      cursor: pointer;\n",
              "      display: none;\n",
              "      fill: #1967D2;\n",
              "      height: 32px;\n",
              "      padding: 0 0 0 0;\n",
              "      width: 32px;\n",
              "    }\n",
              "\n",
              "    .colab-df-convert:hover {\n",
              "      background-color: #E2EBFA;\n",
              "      box-shadow: 0px 1px 2px rgba(60, 64, 67, 0.3), 0px 1px 3px 1px rgba(60, 64, 67, 0.15);\n",
              "      fill: #174EA6;\n",
              "    }\n",
              "\n",
              "    [theme=dark] .colab-df-convert {\n",
              "      background-color: #3B4455;\n",
              "      fill: #D2E3FC;\n",
              "    }\n",
              "\n",
              "    [theme=dark] .colab-df-convert:hover {\n",
              "      background-color: #434B5C;\n",
              "      box-shadow: 0px 1px 3px 1px rgba(0, 0, 0, 0.15);\n",
              "      filter: drop-shadow(0px 1px 2px rgba(0, 0, 0, 0.3));\n",
              "      fill: #FFFFFF;\n",
              "    }\n",
              "  </style>\n",
              "\n",
              "      <script>\n",
              "        const buttonEl =\n",
              "          document.querySelector('#df-19fe6ac6-32d3-4d23-a6e5-8bb6441e6b62 button.colab-df-convert');\n",
              "        buttonEl.style.display =\n",
              "          google.colab.kernel.accessAllowed ? 'block' : 'none';\n",
              "\n",
              "        async function convertToInteractive(key) {\n",
              "          const element = document.querySelector('#df-19fe6ac6-32d3-4d23-a6e5-8bb6441e6b62');\n",
              "          const dataTable =\n",
              "            await google.colab.kernel.invokeFunction('convertToInteractive',\n",
              "                                                     [key], {});\n",
              "          if (!dataTable) return;\n",
              "\n",
              "          const docLinkHtml = 'Like what you see? Visit the ' +\n",
              "            '<a target=\"_blank\" href=https://colab.research.google.com/notebooks/data_table.ipynb>data table notebook</a>'\n",
              "            + ' to learn more about interactive tables.';\n",
              "          element.innerHTML = '';\n",
              "          dataTable['output_type'] = 'display_data';\n",
              "          await google.colab.output.renderOutput(dataTable, element);\n",
              "          const docLink = document.createElement('div');\n",
              "          docLink.innerHTML = docLinkHtml;\n",
              "          element.appendChild(docLink);\n",
              "        }\n",
              "      </script>\n",
              "    </div>\n",
              "  </div>\n",
              "  "
            ]
          },
          "metadata": {},
          "execution_count": 9
        }
      ]
    },
    {
      "cell_type": "code",
      "source": [
        "features=['Mileage','Cylinder','Liter','Doors','Cruise','Sound','Leather']"
      ],
      "metadata": {
        "id": "OCAG9d4_UjrN"
      },
      "execution_count": null,
      "outputs": []
    },
    {
      "cell_type": "code",
      "source": [
        "def reg(col,df,dep='Price',flag=0):\n",
        "  ind=df[col]\n",
        "  dep=df[dep]\n",
        "  price_reg=linear_model.LinearRegression().fit(ind,dep)\n",
        "  if flag==1:\n",
        "    print(\"Linear regression equation :\")\n",
        "    for i,j in enumerate(col):\n",
        "      print('({:.4f}*{}) + '.format(price_reg.coef_[i],j),end='')\n",
        "    print(price_reg.intercept_)\n",
        "  return price_reg\n"
      ],
      "metadata": {
        "id": "A9dJdXzjcCHu"
      },
      "execution_count": null,
      "outputs": []
    },
    {
      "cell_type": "code",
      "source": [
        "price_reg=reg(features,df,flag=1)"
      ],
      "metadata": {
        "colab": {
          "base_uri": "https://localhost:8080/"
        },
        "id": "ZeofdEQodLIE",
        "outputId": "10402e93-fdc5-43ff-fc68-495604ed255f"
      },
      "execution_count": null,
      "outputs": [
        {
          "output_type": "stream",
          "name": "stdout",
          "text": [
            "Linear regression equation :\n",
            "(-0.1697*Mileage) + (3792.3789*Cylinder) + (-787.2207*Liter) + (-1542.7458*Doors) + (6288.9971*Cruise) + (-1993.7953*Sound) + (3349.3616*Leather) + 6758.755143598106\n"
          ]
        }
      ]
    },
    {
      "cell_type": "markdown",
      "source": [
        "$\\color{blue}{\\text{\n",
        "Task 2.2. Find the equation's $R^2$ score (use the `.score` method) to determine whether the}}$$\\color{blue}{\\text{\n",
        "equation is a good fit for this data. (0.8 and greater is considered a strong correlation.)}}$"
      ],
      "metadata": {
        "id": "sNv85l01f6mr"
      }
    },
    {
      "cell_type": "code",
      "source": [
        "rscore1=price_reg.score(df[features],df['Price'])\n",
        "print('R^2 score for this equation : {:.4f}'.format(rscore1),'\\n\\n')\n",
        "if rscore1>=0.8:\n",
        "  print('Equation is fit beacause R^2 value is above 0.8')\n",
        "else:\n",
        "  print('Equation is not a good fit because R^2 value is below 0.8')"
      ],
      "metadata": {
        "colab": {
          "base_uri": "https://localhost:8080/"
        },
        "id": "J_bhYzk6gC2Y",
        "outputId": "f83de688-75a4-40e5-9e08-37e7675d8b41"
      },
      "execution_count": null,
      "outputs": [
        {
          "output_type": "stream",
          "name": "stdout",
          "text": [
            "R^2 score for this equation : 0.4463 \n",
            "\n",
            "\n",
            "Equation is not a good fit because R^2 value is below 0.8\n"
          ]
        }
      ]
    },
    {
      "cell_type": "markdown",
      "source": [
        "$\\color{blue}{\\text{\n",
        "Task 2.3. Find the combination of the factors that is the best predictor for price.}}$"
      ],
      "metadata": {
        "id": "w4oYyIJZhR-N"
      }
    },
    {
      "cell_type": "code",
      "source": [
        "combi=[list(it.combinations(features, n + 1)) for n in range(len(features))]\n"
      ],
      "metadata": {
        "id": "WfZye3Z9hRpq"
      },
      "execution_count": null,
      "outputs": []
    },
    {
      "cell_type": "code",
      "source": [
        "def reg_(col,df,dep='Price'):\n",
        "  ind=df[col]\n",
        "  dep=df[dep]\n",
        "  price_reg=linear_model.LinearRegression().fit(ind,dep)\n",
        "  return price_reg.score(ind,dep),price_reg.coef_"
      ],
      "metadata": {
        "id": "_go2MFrTjKTq"
      },
      "execution_count": null,
      "outputs": []
    },
    {
      "cell_type": "code",
      "source": [
        "def score(com,df):\n",
        "  score={}\n",
        "  for i in range(len(com)):\n",
        "    for j in com[i]:\n",
        "      score[j]=reg_(list(j),df)\n",
        "  return score"
      ],
      "metadata": {
        "id": "GGazJljHEaW4"
      },
      "execution_count": null,
      "outputs": []
    },
    {
      "cell_type": "code",
      "source": [
        "com_scores=score(combi,df)"
      ],
      "metadata": {
        "id": "clntUQaEIWOl"
      },
      "execution_count": null,
      "outputs": []
    },
    {
      "cell_type": "code",
      "source": [
        "sort_price=sorted(com_scores.items(),key=lambda x:x[1],reverse=True)"
      ],
      "metadata": {
        "id": "mTyJ336pIy_b"
      },
      "execution_count": null,
      "outputs": []
    },
    {
      "cell_type": "code",
      "source": [
        "for i,j in sort_price:\n",
        "  print(j,'-->|',i,'|')\n",
        "  print('--------------------------------------------------------------------------------')"
      ],
      "metadata": {
        "colab": {
          "base_uri": "https://localhost:8080/"
        },
        "id": "mHe866aEJAOC",
        "outputId": "b67c0278-98d9-4a15-a4ee-30d6f0eb55e4"
      },
      "execution_count": null,
      "outputs": [
        {
          "output_type": "stream",
          "name": "stdout",
          "text": [
            "0.4462643536728379 -->| ('Mileage', 'Cylinder', 'Liter', 'Doors', 'Cruise', 'Sound', 'Leather') |\n",
            "--------------------------------------------------------------------------------\n",
            "0.44569092105870245 -->| ('Mileage', 'Cylinder', 'Doors', 'Cruise', 'Sound', 'Leather') |\n",
            "--------------------------------------------------------------------------------\n",
            "0.437805741536638 -->| ('Mileage', 'Cylinder', 'Liter', 'Doors', 'Cruise', 'Leather') |\n",
            "--------------------------------------------------------------------------------\n",
            "0.4369402151237246 -->| ('Mileage', 'Cylinder', 'Doors', 'Cruise', 'Leather') |\n",
            "--------------------------------------------------------------------------------\n",
            "0.43014148406475594 -->| ('Mileage', 'Cylinder', 'Liter', 'Cruise', 'Sound', 'Leather') |\n",
            "--------------------------------------------------------------------------------\n",
            "0.43001820483252684 -->| ('Mileage', 'Cylinder', 'Cruise', 'Sound', 'Leather') |\n",
            "--------------------------------------------------------------------------------\n",
            "0.4265348637809262 -->| ('Cylinder', 'Liter', 'Doors', 'Cruise', 'Sound', 'Leather') |\n",
            "--------------------------------------------------------------------------------\n",
            "0.4257681327974421 -->| ('Cylinder', 'Doors', 'Cruise', 'Sound', 'Leather') |\n",
            "--------------------------------------------------------------------------------\n",
            "0.42482840454267856 -->| ('Mileage', 'Liter', 'Doors', 'Cruise', 'Sound', 'Leather') |\n",
            "--------------------------------------------------------------------------------\n",
            "0.4244182401799875 -->| ('Mileage', 'Cylinder', 'Liter', 'Doors', 'Cruise', 'Sound') |\n",
            "--------------------------------------------------------------------------------\n",
            "0.42409748258510405 -->| ('Mileage', 'Cylinder', 'Doors', 'Cruise', 'Sound') |\n",
            "--------------------------------------------------------------------------------\n",
            "0.4225307670398465 -->| ('Mileage', 'Cylinder', 'Liter', 'Cruise', 'Leather') |\n",
            "--------------------------------------------------------------------------------\n",
            "0.4225074214774762 -->| ('Mileage', 'Cylinder', 'Cruise', 'Leather') |\n",
            "--------------------------------------------------------------------------------\n",
            "0.4196580477703242 -->| ('Mileage', 'Cylinder', 'Liter', 'Doors', 'Cruise') |\n",
            "--------------------------------------------------------------------------------\n",
            "0.41914964510731756 -->| ('Mileage', 'Cylinder', 'Doors', 'Cruise') |\n",
            "--------------------------------------------------------------------------------\n",
            "0.4188394218057132 -->| ('Cylinder', 'Liter', 'Doors', 'Cruise', 'Leather') |\n",
            "--------------------------------------------------------------------------------\n",
            "0.4177602737019719 -->| ('Cylinder', 'Doors', 'Cruise', 'Leather') |\n",
            "--------------------------------------------------------------------------------\n",
            "0.41650804904235117 -->| ('Mileage', 'Liter', 'Cruise', 'Sound', 'Leather') |\n",
            "--------------------------------------------------------------------------------\n",
            "0.414009223163035 -->| ('Mileage', 'Liter', 'Doors', 'Cruise', 'Leather') |\n",
            "--------------------------------------------------------------------------------\n",
            "0.4107029526441044 -->| ('Cylinder', 'Liter', 'Cruise', 'Sound', 'Leather') |\n",
            "--------------------------------------------------------------------------------\n",
            "0.41065494158588833 -->| ('Cylinder', 'Cruise', 'Sound', 'Leather') |\n",
            "--------------------------------------------------------------------------------\n",
            "0.40678789687026895 -->| ('Mileage', 'Liter', 'Cruise', 'Leather') |\n",
            "--------------------------------------------------------------------------------\n",
            "0.40654915865835173 -->| ('Mileage', 'Cylinder', 'Liter', 'Cruise', 'Sound') |\n",
            "--------------------------------------------------------------------------------\n",
            "0.4061644982625815 -->| ('Mileage', 'Cylinder', 'Cruise', 'Sound') |\n",
            "--------------------------------------------------------------------------------\n",
            "0.4050927515057854 -->| ('Cylinder', 'Liter', 'Doors', 'Cruise', 'Sound') |\n",
            "--------------------------------------------------------------------------------\n",
            "0.40462307098659855 -->| ('Cylinder', 'Doors', 'Cruise', 'Sound') |\n",
            "--------------------------------------------------------------------------------\n",
            "0.40380376425767606 -->| ('Cylinder', 'Liter', 'Cruise', 'Leather') |\n",
            "--------------------------------------------------------------------------------\n",
            "0.40380272693971553 -->| ('Cylinder', 'Cruise', 'Leather') |\n",
            "--------------------------------------------------------------------------------\n",
            "0.40346337208358063 -->| ('Liter', 'Doors', 'Cruise', 'Sound', 'Leather') |\n",
            "--------------------------------------------------------------------------------\n",
            "0.4031213170211536 -->| ('Mileage', 'Liter', 'Doors', 'Cruise', 'Sound') |\n",
            "--------------------------------------------------------------------------------\n",
            "0.4025842618924307 -->| ('Mileage', 'Cylinder', 'Liter', 'Cruise') |\n",
            "--------------------------------------------------------------------------------\n",
            "0.4023745860316019 -->| ('Mileage', 'Cylinder', 'Cruise') |\n",
            "--------------------------------------------------------------------------------\n",
            "0.40087486932703054 -->| ('Cylinder', 'Liter', 'Doors', 'Cruise') |\n",
            "--------------------------------------------------------------------------------\n",
            "0.4001989079545568 -->| ('Cylinder', 'Doors', 'Cruise') |\n",
            "--------------------------------------------------------------------------------\n",
            "0.39653266980131796 -->| ('Mileage', 'Liter', 'Doors', 'Cruise') |\n",
            "--------------------------------------------------------------------------------\n",
            "0.39564260736568424 -->| ('Liter', 'Cruise', 'Sound', 'Leather') |\n",
            "--------------------------------------------------------------------------------\n",
            "0.39346849142215845 -->| ('Mileage', 'Liter', 'Cruise', 'Sound') |\n",
            "--------------------------------------------------------------------------------\n",
            "0.39345887351036213 -->| ('Liter', 'Doors', 'Cruise', 'Leather') |\n",
            "--------------------------------------------------------------------------------\n",
            "0.38792398390551597 -->| ('Mileage', 'Liter', 'Cruise') |\n",
            "--------------------------------------------------------------------------------\n",
            "0.38754312167360194 -->| ('Cylinder', 'Liter', 'Cruise', 'Sound') |\n",
            "--------------------------------------------------------------------------------\n",
            "0.3873058022296456 -->| ('Cylinder', 'Cruise', 'Sound') |\n",
            "--------------------------------------------------------------------------------\n",
            "0.38665505937731115 -->| ('Liter', 'Cruise', 'Leather') |\n",
            "--------------------------------------------------------------------------------\n",
            "0.3840622008524506 -->| ('Cylinder', 'Liter', 'Cruise') |\n",
            "--------------------------------------------------------------------------------\n",
            "0.3839491324027344 -->| ('Cylinder', 'Cruise') |\n",
            "--------------------------------------------------------------------------------\n",
            "0.382715045002158 -->| ('Mileage', 'Cylinder', 'Liter', 'Doors', 'Sound', 'Leather') |\n",
            "--------------------------------------------------------------------------------\n",
            "0.38258521179336924 -->| ('Mileage', 'Cylinder', 'Doors', 'Sound', 'Leather') |\n",
            "--------------------------------------------------------------------------------\n",
            "0.38218087776588217 -->| ('Liter', 'Doors', 'Cruise', 'Sound') |\n",
            "--------------------------------------------------------------------------------\n",
            "0.3761916805347969 -->| ('Liter', 'Doors', 'Cruise') |\n",
            "--------------------------------------------------------------------------------\n",
            "0.3730745596141458 -->| ('Liter', 'Cruise', 'Sound') |\n",
            "--------------------------------------------------------------------------------\n",
            "0.37136690890240676 -->| ('Mileage', 'Cylinder', 'Liter', 'Doors', 'Leather') |\n",
            "--------------------------------------------------------------------------------\n",
            "0.37133199838451947 -->| ('Mileage', 'Cylinder', 'Doors', 'Leather') |\n",
            "--------------------------------------------------------------------------------\n",
            "0.3680458490296844 -->| ('Liter', 'Cruise') |\n",
            "--------------------------------------------------------------------------------\n",
            "0.36771522262682854 -->| ('Mileage', 'Cylinder', 'Liter', 'Doors', 'Sound') |\n",
            "--------------------------------------------------------------------------------\n",
            "0.3674991296973681 -->| ('Mileage', 'Cylinder', 'Doors', 'Sound') |\n",
            "--------------------------------------------------------------------------------\n",
            "0.365294232839972 -->| ('Mileage', 'Cylinder', 'Liter', 'Sound', 'Leather') |\n",
            "--------------------------------------------------------------------------------\n",
            "0.36516944395094464 -->| ('Cylinder', 'Liter', 'Doors', 'Sound', 'Leather') |\n",
            "--------------------------------------------------------------------------------\n",
            "0.36511700356207033 -->| ('Cylinder', 'Doors', 'Sound', 'Leather') |\n",
            "--------------------------------------------------------------------------------\n",
            "0.36329101174690714 -->| ('Mileage', 'Liter', 'Doors', 'Sound', 'Leather') |\n",
            "--------------------------------------------------------------------------------\n",
            "0.3627841037859246 -->| ('Mileage', 'Cylinder', 'Sound', 'Leather') |\n",
            "--------------------------------------------------------------------------------\n",
            "0.3601250633027092 -->| ('Mileage', 'Cylinder', 'Liter', 'Doors') |\n",
            "--------------------------------------------------------------------------------\n",
            "0.3600299189649303 -->| ('Mileage', 'Cylinder', 'Doors') |\n",
            "--------------------------------------------------------------------------------\n",
            "0.354940443055751 -->| ('Mileage', 'Cylinder', 'Liter', 'Leather') |\n",
            "--------------------------------------------------------------------------------\n",
            "0.3547068894092531 -->| ('Cylinder', 'Liter', 'Doors', 'Leather') |\n",
            "--------------------------------------------------------------------------------\n",
            "0.3547026130008998 -->| ('Cylinder', 'Doors', 'Leather') |\n",
            "--------------------------------------------------------------------------------\n",
            "0.35363153818528137 -->| ('Mileage', 'Liter', 'Sound', 'Leather') |\n",
            "--------------------------------------------------------------------------------\n",
            "0.35303578931823965 -->| ('Mileage', 'Cylinder', 'Leather') |\n",
            "--------------------------------------------------------------------------------\n",
            "0.35038121816111256 -->| ('Cylinder', 'Liter', 'Doors', 'Sound') |\n",
            "--------------------------------------------------------------------------------\n",
            "0.3502699330133767 -->| ('Cylinder', 'Doors', 'Sound') |\n",
            "--------------------------------------------------------------------------------\n",
            "0.34940517971815865 -->| ('Mileage', 'Liter', 'Doors', 'Leather') |\n",
            "--------------------------------------------------------------------------------\n",
            "0.34885465224422074 -->| ('Mileage', 'Cylinder', 'Liter', 'Sound') |\n",
            "--------------------------------------------------------------------------------\n",
            "0.34830222786670784 -->| ('Mileage', 'Liter', 'Doors', 'Sound') |\n",
            "--------------------------------------------------------------------------------\n",
            "0.34805583937456297 -->| ('Cylinder', 'Liter', 'Sound', 'Leather') |\n",
            "--------------------------------------------------------------------------------\n",
            "0.3459853327541679 -->| ('Cylinder', 'Sound', 'Leather') |\n",
            "--------------------------------------------------------------------------------\n",
            "0.34579303945195394 -->| ('Mileage', 'Cylinder', 'Sound') |\n",
            "--------------------------------------------------------------------------------\n",
            "0.3442397580756411 -->| ('Liter', 'Doors', 'Sound', 'Leather') |\n",
            "--------------------------------------------------------------------------------\n",
            "0.3434954780689595 -->| ('Cylinder', 'Liter', 'Doors') |\n",
            "--------------------------------------------------------------------------------\n",
            "0.343460536583038 -->| ('Cylinder', 'Doors') |\n",
            "--------------------------------------------------------------------------------\n",
            "0.34228021178720824 -->| ('Mileage', 'Cylinder', 'Liter') |\n",
            "--------------------------------------------------------------------------------\n",
            "0.34105691618639955 -->| ('Mileage', 'Liter', 'Leather') |\n",
            "--------------------------------------------------------------------------------\n",
            "0.33982070826367505 -->| ('Mileage', 'Cylinder') |\n",
            "--------------------------------------------------------------------------------\n",
            "0.33859102766485816 -->| ('Mileage', 'Liter', 'Doors') |\n",
            "--------------------------------------------------------------------------------\n",
            "0.33853269361625415 -->| ('Cylinder', 'Liter', 'Leather') |\n",
            "--------------------------------------------------------------------------------\n",
            "0.3375252452641955 -->| ('Mileage', 'Liter', 'Sound') |\n",
            "--------------------------------------------------------------------------------\n",
            "0.33698000644980597 -->| ('Cylinder', 'Leather') |\n",
            "--------------------------------------------------------------------------------\n",
            "0.33511407076463473 -->| ('Liter', 'Sound', 'Leather') |\n",
            "--------------------------------------------------------------------------------\n",
            "0.3318486045315714 -->| ('Cylinder', 'Liter', 'Sound') |\n",
            "--------------------------------------------------------------------------------\n",
            "0.3312844538529036 -->| ('Liter', 'Doors', 'Leather') |\n",
            "--------------------------------------------------------------------------------\n",
            "0.32947196699054004 -->| ('Liter', 'Doors', 'Sound') |\n",
            "--------------------------------------------------------------------------------\n",
            "0.32927527347959384 -->| ('Cylinder', 'Sound') |\n",
            "--------------------------------------------------------------------------------\n",
            "0.3291279066854156 -->| ('Mileage', 'Liter') |\n",
            "--------------------------------------------------------------------------------\n",
            "0.32591551601566593 -->| ('Cylinder', 'Liter') |\n",
            "--------------------------------------------------------------------------------\n",
            "0.32385903759512247 -->| ('Cylinder',) |\n",
            "--------------------------------------------------------------------------------\n",
            "0.32337917189904186 -->| ('Liter', 'Leather') |\n",
            "--------------------------------------------------------------------------------\n",
            "0.32051564077668315 -->| ('Liter', 'Doors') |\n",
            "--------------------------------------------------------------------------------\n",
            "0.31926427639502897 -->| ('Liter', 'Sound') |\n",
            "--------------------------------------------------------------------------------\n",
            "0.31152674427904503 -->| ('Liter',) |\n",
            "--------------------------------------------------------------------------------\n",
            "0.272825947675678 -->| ('Mileage', 'Doors', 'Cruise', 'Sound', 'Leather') |\n",
            "--------------------------------------------------------------------------------\n",
            "0.2594013856567562 -->| ('Mileage', 'Cruise', 'Sound', 'Leather') |\n",
            "--------------------------------------------------------------------------------\n",
            "0.2566547812611919 -->| ('Mileage', 'Doors', 'Cruise', 'Leather') |\n",
            "--------------------------------------------------------------------------------\n",
            "0.24744913495807552 -->| ('Doors', 'Cruise', 'Sound', 'Leather') |\n",
            "--------------------------------------------------------------------------------\n",
            "0.24484643441472986 -->| ('Mileage', 'Cruise', 'Leather') |\n",
            "--------------------------------------------------------------------------------\n",
            "0.23464406340531807 -->| ('Cruise', 'Sound', 'Leather') |\n",
            "--------------------------------------------------------------------------------\n",
            "0.23336920288580454 -->| ('Mileage', 'Doors', 'Cruise', 'Sound') |\n",
            "--------------------------------------------------------------------------------\n",
            "0.23229120295179528 -->| ('Doors', 'Cruise', 'Leather') |\n",
            "--------------------------------------------------------------------------------\n",
            "0.2239031407636466 -->| ('Mileage', 'Doors', 'Cruise') |\n",
            "--------------------------------------------------------------------------------\n",
            "0.2210042052179847 -->| ('Cruise', 'Leather') |\n",
            "--------------------------------------------------------------------------------\n",
            "0.21721656906779274 -->| ('Mileage', 'Cruise', 'Sound') |\n",
            "--------------------------------------------------------------------------------\n",
            "0.2093138558315859 -->| ('Mileage', 'Cruise') |\n",
            "--------------------------------------------------------------------------------\n",
            "0.2083536888853531 -->| ('Doors', 'Cruise', 'Sound') |\n",
            "--------------------------------------------------------------------------------\n",
            "0.1996382468921617 -->| ('Doors', 'Cruise') |\n",
            "--------------------------------------------------------------------------------\n",
            "0.19288948066869627 -->| ('Cruise', 'Sound') |\n",
            "--------------------------------------------------------------------------------\n",
            "0.1856330092969276 -->| ('Cruise',) |\n",
            "--------------------------------------------------------------------------------\n",
            "0.08933709379370725 -->| ('Mileage', 'Doors', 'Sound', 'Leather') |\n",
            "--------------------------------------------------------------------------------\n",
            "0.06965940622436506 -->| ('Mileage', 'Sound', 'Leather') |\n",
            "--------------------------------------------------------------------------------\n",
            "0.06687313316188848 -->| ('Doors', 'Sound', 'Leather') |\n",
            "--------------------------------------------------------------------------------\n",
            "0.06256392121987697 -->| ('Mileage', 'Doors', 'Leather') |\n",
            "--------------------------------------------------------------------------------\n",
            "0.05925054392042661 -->| ('Mileage', 'Doors', 'Sound') |\n",
            "--------------------------------------------------------------------------------\n",
            "0.04795369092082724 -->| ('Sound', 'Leather') |\n",
            "--------------------------------------------------------------------------------\n",
            "0.04521956340886857 -->| ('Mileage', 'Leather') |\n",
            "--------------------------------------------------------------------------------\n",
            "0.04141817346866039 -->| ('Doors', 'Leather') |\n",
            "--------------------------------------------------------------------------------\n",
            "0.04039914867118721 -->| ('Mileage', 'Doors') |\n",
            "--------------------------------------------------------------------------------\n",
            "0.03701628770903431 -->| ('Doors', 'Sound') |\n",
            "--------------------------------------------------------------------------------\n",
            "0.03688121596735017 -->| ('Mileage', 'Sound') |\n",
            "--------------------------------------------------------------------------------\n",
            "0.024710851264124534 -->| ('Leather',) |\n",
            "--------------------------------------------------------------------------------\n",
            "0.02046344732348926 -->| ('Mileage',) |\n",
            "--------------------------------------------------------------------------------\n",
            "0.019251466591467037 -->| ('Doors',) |\n",
            "--------------------------------------------------------------------------------\n",
            "0.015462387624189389 -->| ('Sound',) |\n",
            "--------------------------------------------------------------------------------\n"
          ]
        }
      ]
    },
    {
      "cell_type": "markdown",
      "source": [
        "CONCLUSION"
      ],
      "metadata": {
        "id": "wQ6ho4cGLO0r"
      }
    },
    {
      "cell_type": "code",
      "source": [
        "print('Combination that is best predictor of price with maximum R^2 score is :\\n')\n",
        "print(sort_price[0][0],'--max R^2 score-->',sort_price[0][1])"
      ],
      "metadata": {
        "colab": {
          "base_uri": "https://localhost:8080/"
        },
        "id": "3AiVbw7PJSqo",
        "outputId": "db52bc32-650b-4405-c52a-a52aeae1ad19"
      },
      "execution_count": null,
      "outputs": [
        {
          "output_type": "stream",
          "name": "stdout",
          "text": [
            "Combination that is best predictor of price with maximum R^2 score is :\n",
            "\n",
            "('Mileage', 'Cylinder', 'Liter', 'Doors', 'Cruise', 'Sound', 'Leather') --max R^2 score--> 0.4462643536728379\n"
          ]
        }
      ]
    },
    {
      "cell_type": "markdown",
      "source": [
        "$\\color{blue}{\\text{\n",
        "**Task 3.1. Research dummy variables in scikit-learn to see how to use the make, model, and body type.**}}$"
      ],
      "metadata": {
        "id": "wgxXiwmvMZz-"
      }
    },
    {
      "cell_type": "code",
      "source": [
        "df1=df.copy()\n",
        "df1.head()"
      ],
      "metadata": {
        "colab": {
          "base_uri": "https://localhost:8080/",
          "height": 206
        },
        "id": "EvX4TYLBMLsC",
        "outputId": "69c3332a-2f74-414a-eb78-cf60a4764796"
      },
      "execution_count": null,
      "outputs": [
        {
          "output_type": "execute_result",
          "data": {
            "text/plain": [
              "          Price  Mileage   Make    Model      Trim   Type  Cylinder  Liter  \\\n",
              "0  17314.103129     8221  Buick  Century  Sedan 4D  Sedan         6    3.1   \n",
              "1  17542.036083     9135  Buick  Century  Sedan 4D  Sedan         6    3.1   \n",
              "2  16218.847862    13196  Buick  Century  Sedan 4D  Sedan         6    3.1   \n",
              "3  16336.913140    16342  Buick  Century  Sedan 4D  Sedan         6    3.1   \n",
              "4  16339.170324    19832  Buick  Century  Sedan 4D  Sedan         6    3.1   \n",
              "\n",
              "   Doors  Cruise  Sound  Leather  \n",
              "0      4       1      1        1  \n",
              "1      4       1      1        0  \n",
              "2      4       1      1        0  \n",
              "3      4       1      0        0  \n",
              "4      4       1      0        1  "
            ],
            "text/html": [
              "\n",
              "  <div id=\"df-422bf035-3384-4efb-a54e-596f65d1e0a1\">\n",
              "    <div class=\"colab-df-container\">\n",
              "      <div>\n",
              "<style scoped>\n",
              "    .dataframe tbody tr th:only-of-type {\n",
              "        vertical-align: middle;\n",
              "    }\n",
              "\n",
              "    .dataframe tbody tr th {\n",
              "        vertical-align: top;\n",
              "    }\n",
              "\n",
              "    .dataframe thead th {\n",
              "        text-align: right;\n",
              "    }\n",
              "</style>\n",
              "<table border=\"1\" class=\"dataframe\">\n",
              "  <thead>\n",
              "    <tr style=\"text-align: right;\">\n",
              "      <th></th>\n",
              "      <th>Price</th>\n",
              "      <th>Mileage</th>\n",
              "      <th>Make</th>\n",
              "      <th>Model</th>\n",
              "      <th>Trim</th>\n",
              "      <th>Type</th>\n",
              "      <th>Cylinder</th>\n",
              "      <th>Liter</th>\n",
              "      <th>Doors</th>\n",
              "      <th>Cruise</th>\n",
              "      <th>Sound</th>\n",
              "      <th>Leather</th>\n",
              "    </tr>\n",
              "  </thead>\n",
              "  <tbody>\n",
              "    <tr>\n",
              "      <th>0</th>\n",
              "      <td>17314.103129</td>\n",
              "      <td>8221</td>\n",
              "      <td>Buick</td>\n",
              "      <td>Century</td>\n",
              "      <td>Sedan 4D</td>\n",
              "      <td>Sedan</td>\n",
              "      <td>6</td>\n",
              "      <td>3.1</td>\n",
              "      <td>4</td>\n",
              "      <td>1</td>\n",
              "      <td>1</td>\n",
              "      <td>1</td>\n",
              "    </tr>\n",
              "    <tr>\n",
              "      <th>1</th>\n",
              "      <td>17542.036083</td>\n",
              "      <td>9135</td>\n",
              "      <td>Buick</td>\n",
              "      <td>Century</td>\n",
              "      <td>Sedan 4D</td>\n",
              "      <td>Sedan</td>\n",
              "      <td>6</td>\n",
              "      <td>3.1</td>\n",
              "      <td>4</td>\n",
              "      <td>1</td>\n",
              "      <td>1</td>\n",
              "      <td>0</td>\n",
              "    </tr>\n",
              "    <tr>\n",
              "      <th>2</th>\n",
              "      <td>16218.847862</td>\n",
              "      <td>13196</td>\n",
              "      <td>Buick</td>\n",
              "      <td>Century</td>\n",
              "      <td>Sedan 4D</td>\n",
              "      <td>Sedan</td>\n",
              "      <td>6</td>\n",
              "      <td>3.1</td>\n",
              "      <td>4</td>\n",
              "      <td>1</td>\n",
              "      <td>1</td>\n",
              "      <td>0</td>\n",
              "    </tr>\n",
              "    <tr>\n",
              "      <th>3</th>\n",
              "      <td>16336.913140</td>\n",
              "      <td>16342</td>\n",
              "      <td>Buick</td>\n",
              "      <td>Century</td>\n",
              "      <td>Sedan 4D</td>\n",
              "      <td>Sedan</td>\n",
              "      <td>6</td>\n",
              "      <td>3.1</td>\n",
              "      <td>4</td>\n",
              "      <td>1</td>\n",
              "      <td>0</td>\n",
              "      <td>0</td>\n",
              "    </tr>\n",
              "    <tr>\n",
              "      <th>4</th>\n",
              "      <td>16339.170324</td>\n",
              "      <td>19832</td>\n",
              "      <td>Buick</td>\n",
              "      <td>Century</td>\n",
              "      <td>Sedan 4D</td>\n",
              "      <td>Sedan</td>\n",
              "      <td>6</td>\n",
              "      <td>3.1</td>\n",
              "      <td>4</td>\n",
              "      <td>1</td>\n",
              "      <td>0</td>\n",
              "      <td>1</td>\n",
              "    </tr>\n",
              "  </tbody>\n",
              "</table>\n",
              "</div>\n",
              "      <button class=\"colab-df-convert\" onclick=\"convertToInteractive('df-422bf035-3384-4efb-a54e-596f65d1e0a1')\"\n",
              "              title=\"Convert this dataframe to an interactive table.\"\n",
              "              style=\"display:none;\">\n",
              "        \n",
              "  <svg xmlns=\"http://www.w3.org/2000/svg\" height=\"24px\"viewBox=\"0 0 24 24\"\n",
              "       width=\"24px\">\n",
              "    <path d=\"M0 0h24v24H0V0z\" fill=\"none\"/>\n",
              "    <path d=\"M18.56 5.44l.94 2.06.94-2.06 2.06-.94-2.06-.94-.94-2.06-.94 2.06-2.06.94zm-11 1L8.5 8.5l.94-2.06 2.06-.94-2.06-.94L8.5 2.5l-.94 2.06-2.06.94zm10 10l.94 2.06.94-2.06 2.06-.94-2.06-.94-.94-2.06-.94 2.06-2.06.94z\"/><path d=\"M17.41 7.96l-1.37-1.37c-.4-.4-.92-.59-1.43-.59-.52 0-1.04.2-1.43.59L10.3 9.45l-7.72 7.72c-.78.78-.78 2.05 0 2.83L4 21.41c.39.39.9.59 1.41.59.51 0 1.02-.2 1.41-.59l7.78-7.78 2.81-2.81c.8-.78.8-2.07 0-2.86zM5.41 20L4 18.59l7.72-7.72 1.47 1.35L5.41 20z\"/>\n",
              "  </svg>\n",
              "      </button>\n",
              "      \n",
              "  <style>\n",
              "    .colab-df-container {\n",
              "      display:flex;\n",
              "      flex-wrap:wrap;\n",
              "      gap: 12px;\n",
              "    }\n",
              "\n",
              "    .colab-df-convert {\n",
              "      background-color: #E8F0FE;\n",
              "      border: none;\n",
              "      border-radius: 50%;\n",
              "      cursor: pointer;\n",
              "      display: none;\n",
              "      fill: #1967D2;\n",
              "      height: 32px;\n",
              "      padding: 0 0 0 0;\n",
              "      width: 32px;\n",
              "    }\n",
              "\n",
              "    .colab-df-convert:hover {\n",
              "      background-color: #E2EBFA;\n",
              "      box-shadow: 0px 1px 2px rgba(60, 64, 67, 0.3), 0px 1px 3px 1px rgba(60, 64, 67, 0.15);\n",
              "      fill: #174EA6;\n",
              "    }\n",
              "\n",
              "    [theme=dark] .colab-df-convert {\n",
              "      background-color: #3B4455;\n",
              "      fill: #D2E3FC;\n",
              "    }\n",
              "\n",
              "    [theme=dark] .colab-df-convert:hover {\n",
              "      background-color: #434B5C;\n",
              "      box-shadow: 0px 1px 3px 1px rgba(0, 0, 0, 0.15);\n",
              "      filter: drop-shadow(0px 1px 2px rgba(0, 0, 0, 0.3));\n",
              "      fill: #FFFFFF;\n",
              "    }\n",
              "  </style>\n",
              "\n",
              "      <script>\n",
              "        const buttonEl =\n",
              "          document.querySelector('#df-422bf035-3384-4efb-a54e-596f65d1e0a1 button.colab-df-convert');\n",
              "        buttonEl.style.display =\n",
              "          google.colab.kernel.accessAllowed ? 'block' : 'none';\n",
              "\n",
              "        async function convertToInteractive(key) {\n",
              "          const element = document.querySelector('#df-422bf035-3384-4efb-a54e-596f65d1e0a1');\n",
              "          const dataTable =\n",
              "            await google.colab.kernel.invokeFunction('convertToInteractive',\n",
              "                                                     [key], {});\n",
              "          if (!dataTable) return;\n",
              "\n",
              "          const docLinkHtml = 'Like what you see? Visit the ' +\n",
              "            '<a target=\"_blank\" href=https://colab.research.google.com/notebooks/data_table.ipynb>data table notebook</a>'\n",
              "            + ' to learn more about interactive tables.';\n",
              "          element.innerHTML = '';\n",
              "          dataTable['output_type'] = 'display_data';\n",
              "          await google.colab.output.renderOutput(dataTable, element);\n",
              "          const docLink = document.createElement('div');\n",
              "          docLink.innerHTML = docLinkHtml;\n",
              "          element.appendChild(docLink);\n",
              "        }\n",
              "      </script>\n",
              "    </div>\n",
              "  </div>\n",
              "  "
            ]
          },
          "metadata": {},
          "execution_count": 21
        }
      ]
    },
    {
      "cell_type": "code",
      "source": [
        "df_make=pd.get_dummies(df['Make'])\n",
        "df1[df_make.columns]=df_make\n",
        "df1.drop('Make',axis=1,inplace=True)\n",
        "\n",
        "df_Model=pd.get_dummies(df['Model'])\n",
        "df1[df_Model.columns]=df_Model\n",
        "df1.drop('Model',axis=1,inplace=True)\n",
        "\n",
        "df_btype=pd.get_dummies(df['Type'])\n",
        "df1[df_btype.columns]=df_btype\n",
        "df1.drop('Type',axis=1,inplace=True)"
      ],
      "metadata": {
        "id": "DbjDs3EgMuZx"
      },
      "execution_count": null,
      "outputs": []
    },
    {
      "cell_type": "code",
      "source": [
        "df1.head()"
      ],
      "metadata": {
        "colab": {
          "base_uri": "https://localhost:8080/",
          "height": 404
        },
        "id": "qozlbPS8GMkt",
        "outputId": "a0d9228b-d4f1-456f-95eb-28b7a1a2b528"
      },
      "execution_count": null,
      "outputs": [
        {
          "output_type": "execute_result",
          "data": {
            "text/plain": [
              "          Price  Mileage      Trim  Cylinder  Liter  Doors  Cruise  Sound  \\\n",
              "0  17314.103129     8221  Sedan 4D         6    3.1      4       1      1   \n",
              "1  17542.036083     9135  Sedan 4D         6    3.1      4       1      1   \n",
              "2  16218.847862    13196  Sedan 4D         6    3.1      4       1      1   \n",
              "3  16336.913140    16342  Sedan 4D         6    3.1      4       1      0   \n",
              "4  16339.170324    19832  Sedan 4D         6    3.1      4       1      0   \n",
              "\n",
              "   Leather  Buick  ...  STS-V6  STS-V8  Sunfire  Vibe  XLR-V8  Convertible  \\\n",
              "0        1      1  ...       0       0        0     0       0            0   \n",
              "1        0      1  ...       0       0        0     0       0            0   \n",
              "2        0      1  ...       0       0        0     0       0            0   \n",
              "3        0      1  ...       0       0        0     0       0            0   \n",
              "4        1      1  ...       0       0        0     0       0            0   \n",
              "\n",
              "   Coupe  Hatchback  Sedan  Wagon  \n",
              "0      0          0      1      0  \n",
              "1      0          0      1      0  \n",
              "2      0          0      1      0  \n",
              "3      0          0      1      0  \n",
              "4      0          0      1      0  \n",
              "\n",
              "[5 rows x 52 columns]"
            ],
            "text/html": [
              "\n",
              "  <div id=\"df-c6295361-ca63-45aa-b846-7e9299376853\">\n",
              "    <div class=\"colab-df-container\">\n",
              "      <div>\n",
              "<style scoped>\n",
              "    .dataframe tbody tr th:only-of-type {\n",
              "        vertical-align: middle;\n",
              "    }\n",
              "\n",
              "    .dataframe tbody tr th {\n",
              "        vertical-align: top;\n",
              "    }\n",
              "\n",
              "    .dataframe thead th {\n",
              "        text-align: right;\n",
              "    }\n",
              "</style>\n",
              "<table border=\"1\" class=\"dataframe\">\n",
              "  <thead>\n",
              "    <tr style=\"text-align: right;\">\n",
              "      <th></th>\n",
              "      <th>Price</th>\n",
              "      <th>Mileage</th>\n",
              "      <th>Trim</th>\n",
              "      <th>Cylinder</th>\n",
              "      <th>Liter</th>\n",
              "      <th>Doors</th>\n",
              "      <th>Cruise</th>\n",
              "      <th>Sound</th>\n",
              "      <th>Leather</th>\n",
              "      <th>Buick</th>\n",
              "      <th>...</th>\n",
              "      <th>STS-V6</th>\n",
              "      <th>STS-V8</th>\n",
              "      <th>Sunfire</th>\n",
              "      <th>Vibe</th>\n",
              "      <th>XLR-V8</th>\n",
              "      <th>Convertible</th>\n",
              "      <th>Coupe</th>\n",
              "      <th>Hatchback</th>\n",
              "      <th>Sedan</th>\n",
              "      <th>Wagon</th>\n",
              "    </tr>\n",
              "  </thead>\n",
              "  <tbody>\n",
              "    <tr>\n",
              "      <th>0</th>\n",
              "      <td>17314.103129</td>\n",
              "      <td>8221</td>\n",
              "      <td>Sedan 4D</td>\n",
              "      <td>6</td>\n",
              "      <td>3.1</td>\n",
              "      <td>4</td>\n",
              "      <td>1</td>\n",
              "      <td>1</td>\n",
              "      <td>1</td>\n",
              "      <td>1</td>\n",
              "      <td>...</td>\n",
              "      <td>0</td>\n",
              "      <td>0</td>\n",
              "      <td>0</td>\n",
              "      <td>0</td>\n",
              "      <td>0</td>\n",
              "      <td>0</td>\n",
              "      <td>0</td>\n",
              "      <td>0</td>\n",
              "      <td>1</td>\n",
              "      <td>0</td>\n",
              "    </tr>\n",
              "    <tr>\n",
              "      <th>1</th>\n",
              "      <td>17542.036083</td>\n",
              "      <td>9135</td>\n",
              "      <td>Sedan 4D</td>\n",
              "      <td>6</td>\n",
              "      <td>3.1</td>\n",
              "      <td>4</td>\n",
              "      <td>1</td>\n",
              "      <td>1</td>\n",
              "      <td>0</td>\n",
              "      <td>1</td>\n",
              "      <td>...</td>\n",
              "      <td>0</td>\n",
              "      <td>0</td>\n",
              "      <td>0</td>\n",
              "      <td>0</td>\n",
              "      <td>0</td>\n",
              "      <td>0</td>\n",
              "      <td>0</td>\n",
              "      <td>0</td>\n",
              "      <td>1</td>\n",
              "      <td>0</td>\n",
              "    </tr>\n",
              "    <tr>\n",
              "      <th>2</th>\n",
              "      <td>16218.847862</td>\n",
              "      <td>13196</td>\n",
              "      <td>Sedan 4D</td>\n",
              "      <td>6</td>\n",
              "      <td>3.1</td>\n",
              "      <td>4</td>\n",
              "      <td>1</td>\n",
              "      <td>1</td>\n",
              "      <td>0</td>\n",
              "      <td>1</td>\n",
              "      <td>...</td>\n",
              "      <td>0</td>\n",
              "      <td>0</td>\n",
              "      <td>0</td>\n",
              "      <td>0</td>\n",
              "      <td>0</td>\n",
              "      <td>0</td>\n",
              "      <td>0</td>\n",
              "      <td>0</td>\n",
              "      <td>1</td>\n",
              "      <td>0</td>\n",
              "    </tr>\n",
              "    <tr>\n",
              "      <th>3</th>\n",
              "      <td>16336.913140</td>\n",
              "      <td>16342</td>\n",
              "      <td>Sedan 4D</td>\n",
              "      <td>6</td>\n",
              "      <td>3.1</td>\n",
              "      <td>4</td>\n",
              "      <td>1</td>\n",
              "      <td>0</td>\n",
              "      <td>0</td>\n",
              "      <td>1</td>\n",
              "      <td>...</td>\n",
              "      <td>0</td>\n",
              "      <td>0</td>\n",
              "      <td>0</td>\n",
              "      <td>0</td>\n",
              "      <td>0</td>\n",
              "      <td>0</td>\n",
              "      <td>0</td>\n",
              "      <td>0</td>\n",
              "      <td>1</td>\n",
              "      <td>0</td>\n",
              "    </tr>\n",
              "    <tr>\n",
              "      <th>4</th>\n",
              "      <td>16339.170324</td>\n",
              "      <td>19832</td>\n",
              "      <td>Sedan 4D</td>\n",
              "      <td>6</td>\n",
              "      <td>3.1</td>\n",
              "      <td>4</td>\n",
              "      <td>1</td>\n",
              "      <td>0</td>\n",
              "      <td>1</td>\n",
              "      <td>1</td>\n",
              "      <td>...</td>\n",
              "      <td>0</td>\n",
              "      <td>0</td>\n",
              "      <td>0</td>\n",
              "      <td>0</td>\n",
              "      <td>0</td>\n",
              "      <td>0</td>\n",
              "      <td>0</td>\n",
              "      <td>0</td>\n",
              "      <td>1</td>\n",
              "      <td>0</td>\n",
              "    </tr>\n",
              "  </tbody>\n",
              "</table>\n",
              "<p>5 rows × 52 columns</p>\n",
              "</div>\n",
              "      <button class=\"colab-df-convert\" onclick=\"convertToInteractive('df-c6295361-ca63-45aa-b846-7e9299376853')\"\n",
              "              title=\"Convert this dataframe to an interactive table.\"\n",
              "              style=\"display:none;\">\n",
              "        \n",
              "  <svg xmlns=\"http://www.w3.org/2000/svg\" height=\"24px\"viewBox=\"0 0 24 24\"\n",
              "       width=\"24px\">\n",
              "    <path d=\"M0 0h24v24H0V0z\" fill=\"none\"/>\n",
              "    <path d=\"M18.56 5.44l.94 2.06.94-2.06 2.06-.94-2.06-.94-.94-2.06-.94 2.06-2.06.94zm-11 1L8.5 8.5l.94-2.06 2.06-.94-2.06-.94L8.5 2.5l-.94 2.06-2.06.94zm10 10l.94 2.06.94-2.06 2.06-.94-2.06-.94-.94-2.06-.94 2.06-2.06.94z\"/><path d=\"M17.41 7.96l-1.37-1.37c-.4-.4-.92-.59-1.43-.59-.52 0-1.04.2-1.43.59L10.3 9.45l-7.72 7.72c-.78.78-.78 2.05 0 2.83L4 21.41c.39.39.9.59 1.41.59.51 0 1.02-.2 1.41-.59l7.78-7.78 2.81-2.81c.8-.78.8-2.07 0-2.86zM5.41 20L4 18.59l7.72-7.72 1.47 1.35L5.41 20z\"/>\n",
              "  </svg>\n",
              "      </button>\n",
              "      \n",
              "  <style>\n",
              "    .colab-df-container {\n",
              "      display:flex;\n",
              "      flex-wrap:wrap;\n",
              "      gap: 12px;\n",
              "    }\n",
              "\n",
              "    .colab-df-convert {\n",
              "      background-color: #E8F0FE;\n",
              "      border: none;\n",
              "      border-radius: 50%;\n",
              "      cursor: pointer;\n",
              "      display: none;\n",
              "      fill: #1967D2;\n",
              "      height: 32px;\n",
              "      padding: 0 0 0 0;\n",
              "      width: 32px;\n",
              "    }\n",
              "\n",
              "    .colab-df-convert:hover {\n",
              "      background-color: #E2EBFA;\n",
              "      box-shadow: 0px 1px 2px rgba(60, 64, 67, 0.3), 0px 1px 3px 1px rgba(60, 64, 67, 0.15);\n",
              "      fill: #174EA6;\n",
              "    }\n",
              "\n",
              "    [theme=dark] .colab-df-convert {\n",
              "      background-color: #3B4455;\n",
              "      fill: #D2E3FC;\n",
              "    }\n",
              "\n",
              "    [theme=dark] .colab-df-convert:hover {\n",
              "      background-color: #434B5C;\n",
              "      box-shadow: 0px 1px 3px 1px rgba(0, 0, 0, 0.15);\n",
              "      filter: drop-shadow(0px 1px 2px rgba(0, 0, 0, 0.3));\n",
              "      fill: #FFFFFF;\n",
              "    }\n",
              "  </style>\n",
              "\n",
              "      <script>\n",
              "        const buttonEl =\n",
              "          document.querySelector('#df-c6295361-ca63-45aa-b846-7e9299376853 button.colab-df-convert');\n",
              "        buttonEl.style.display =\n",
              "          google.colab.kernel.accessAllowed ? 'block' : 'none';\n",
              "\n",
              "        async function convertToInteractive(key) {\n",
              "          const element = document.querySelector('#df-c6295361-ca63-45aa-b846-7e9299376853');\n",
              "          const dataTable =\n",
              "            await google.colab.kernel.invokeFunction('convertToInteractive',\n",
              "                                                     [key], {});\n",
              "          if (!dataTable) return;\n",
              "\n",
              "          const docLinkHtml = 'Like what you see? Visit the ' +\n",
              "            '<a target=\"_blank\" href=https://colab.research.google.com/notebooks/data_table.ipynb>data table notebook</a>'\n",
              "            + ' to learn more about interactive tables.';\n",
              "          element.innerHTML = '';\n",
              "          dataTable['output_type'] = 'display_data';\n",
              "          await google.colab.output.renderOutput(dataTable, element);\n",
              "          const docLink = document.createElement('div');\n",
              "          docLink.innerHTML = docLinkHtml;\n",
              "          element.appendChild(docLink);\n",
              "        }\n",
              "      </script>\n",
              "    </div>\n",
              "  </div>\n",
              "  "
            ]
          },
          "metadata": {},
          "execution_count": 23
        }
      ]
    },
    {
      "cell_type": "markdown",
      "source": [
        "**using  car Make to predict the accuracy **"
      ],
      "metadata": {
        "id": "3aqjyVwHppEV"
      }
    },
    {
      "cell_type": "code",
      "source": [
        "features_make=features+list(df_make.columns)"
      ],
      "metadata": {
        "id": "kpDPpz1EU6mw"
      },
      "execution_count": null,
      "outputs": []
    },
    {
      "cell_type": "code",
      "source": [
        "score_make=reg_(features_make,df1)"
      ],
      "metadata": {
        "id": "6nOnN-mLXzVy"
      },
      "execution_count": null,
      "outputs": []
    },
    {
      "cell_type": "code",
      "source": [
        "score_make"
      ],
      "metadata": {
        "colab": {
          "base_uri": "https://localhost:8080/"
        },
        "id": "ygTnCGJVW-y_",
        "outputId": "a11c3d20-61d4-419e-ad0e-3539863a8e29"
      },
      "execution_count": null,
      "outputs": [
        {
          "output_type": "execute_result",
          "data": {
            "text/plain": [
              "(0.8790407013784629,\n",
              " array([-1.80350637e-01, -2.15017490e+02,  4.76041802e+03, -1.71005694e+03,\n",
              "        -5.03847862e+02, -4.40784379e+01,  2.54587694e+01, -4.09717439e+03,\n",
              "         1.21744272e+04, -6.33451398e+03, -5.87619252e+03,  1.05422512e+04,\n",
              "        -6.40879743e+03]))"
            ]
          },
          "metadata": {},
          "execution_count": 34
        }
      ]
    },
    {
      "cell_type": "code",
      "source": [
        "fig=plt.figure(figsize=(10,6))\n",
        "\n",
        "for x,i in zip(features_make,score_make[1]): \n",
        "  if i>=0:\n",
        "      plt.plot(x,i,marker=\"D\",ms=15,mec=\"k\",mfc=\"g\")\n",
        "  else:\n",
        "      plt.plot(x,i,marker=\"D\",ms=15,mec=\"k\",mfc=\"r\")\n",
        "plt.plot(features_make,score_make[1])\n",
        "plt.bar(features_make,score_make[1])\n",
        "plt.xticks(rotation=60)\n",
        "\n",
        "plt.show()"
      ],
      "metadata": {
        "id": "tJkIBmUaan1C",
        "colab": {
          "base_uri": "https://localhost:8080/",
          "height": 411
        },
        "outputId": "800c6c51-4115-4fe2-eae4-d15835f7ff67"
      },
      "execution_count": null,
      "outputs": [
        {
          "output_type": "display_data",
          "data": {
            "text/plain": [
              "<Figure size 720x432 with 1 Axes>"
            ],
            "image/png": "[encoded data removed]"
          },
          "metadata": {
            "needs_background": "light"
          }
        }
      ]
    },
    {
      "cell_type": "markdown",
      "source": [
        "Taking make in to consideration has much of influence in the accuracy score.\n",
        "\n",
        "Cadillac, SAAB has much weightage in Make."
      ],
      "metadata": {
        "id": "69GmmWwJ2BUe"
      }
    },
    {
      "cell_type": "markdown",
      "source": [
        "**Lets consider the Body type and measure accuracy**"
      ],
      "metadata": {
        "id": "qZsUciLE3fa1"
      }
    },
    {
      "cell_type": "code",
      "source": [
        "features_type=features+list(df_btype.columns)\n"
      ],
      "metadata": {
        "id": "Y1oXwvCa1prq"
      },
      "execution_count": null,
      "outputs": []
    },
    {
      "cell_type": "code",
      "source": [
        "score_btype=reg_(features_type,df1)\n",
        "score_btype"
      ],
      "metadata": {
        "colab": {
          "base_uri": "https://localhost:8080/"
        },
        "id": "eTxhoSgN4C1y",
        "outputId": "18ae587b-299b-453e-924e-487809e27f1c"
      },
      "execution_count": null,
      "outputs": [
        {
          "output_type": "execute_result",
          "data": {
            "text/plain": [
              "(0.6861037486069592,\n",
              " array([-1.85730984e-01,  3.45540842e+03,  2.13147098e+02, -2.90072741e+03,\n",
              "         3.95201161e+03, -5.74584918e+02,  3.24062522e+03,  1.10063851e+04,\n",
              "        -9.55602137e+03, -5.64205281e+03, -1.63418573e+03,  5.82587484e+03]))"
            ]
          },
          "metadata": {},
          "execution_count": 51
        }
      ]
    },
    {
      "cell_type": "code",
      "source": [
        "fig=plt.figure(figsize=(10,6))\n",
        "\n",
        "for x,i in zip(features_type,score_btype[1]): \n",
        "  if i>=0:\n",
        "      plt.plot(x,i,marker=\"D\",ms=15,mec=\"k\",mfc=\"g\")\n",
        "  else:\n",
        "      plt.plot(x,i,marker=\"D\",ms=15,mec=\"k\",mfc=\"r\")\n",
        "plt.plot(features_type,score_btype[1])\n",
        "plt.bar(features_type,score_btype[1])\n",
        "plt.xticks(rotation=60)\n",
        "\n",
        "plt.show()"
      ],
      "metadata": {
        "colab": {
          "base_uri": "https://localhost:8080/",
          "height": 419
        },
        "id": "6hZqL_8p4Gyq",
        "outputId": "11d0b259-eaf7-444b-a5ae-0c2cb3adefbf"
      },
      "execution_count": null,
      "outputs": [
        {
          "output_type": "display_data",
          "data": {
            "text/plain": [
              "<Figure size 720x432 with 1 Axes>"
            ],
            "image/png": "[encoded data removed]"
          },
          "metadata": {
            "needs_background": "light"
          }
        }
      ]
    },
    {
      "cell_type": "markdown",
      "source": [
        "Taking BODYTYPE in to consideration Convertible and wagon has much of weightage in pricing\n",
        "\n",
        "Considering accuracy score Body type has not much of influence with score less than 0.7"
      ],
      "metadata": {
        "id": "LEfMxPcQ5UVh"
      }
    },
    {
      "cell_type": "markdown",
      "source": [
        "**Lets consider the model with make**"
      ],
      "metadata": {
        "id": "xfgiXxDa6tbS"
      }
    },
    {
      "cell_type": "code",
      "source": [
        "features_Model=features_make+list(df_Model.columns)"
      ],
      "metadata": {
        "id": "l6MHIiBi7GT6"
      },
      "execution_count": null,
      "outputs": []
    },
    {
      "cell_type": "code",
      "source": [
        "score_Mod=reg_(features_Model,df1)\n",
        "score_Mod"
      ],
      "metadata": {
        "colab": {
          "base_uri": "https://localhost:8080/"
        },
        "id": "uIDK-SJj7avL",
        "outputId": "2acc8010-2a97-41fc-8ce9-ead6af440c19"
      },
      "execution_count": null,
      "outputs": [
        {
          "output_type": "execute_result",
          "data": {
            "text/plain": [
              "(0.9726960036276533,\n",
              " array([-1.77363292e-01,  1.42109547e+03, -1.29503922e+03, -1.00061033e+03,\n",
              "        -1.05134011e+02,  1.71299650e+02,  4.33554826e+02, -2.83605249e+03,\n",
              "         1.45618708e+04, -5.16991643e+03, -4.96734012e+03,  4.53847732e+03,\n",
              "        -6.12703903e+03, -2.37371207e+03,  9.24148028e+02,  1.94720905e+03,\n",
              "         2.84864765e+03,  1.19218466e+03, -7.63945900e+03,  1.65913162e+03,\n",
              "         6.27392361e+03, -9.75872350e+03, -6.04045824e+03, -5.79440817e+03,\n",
              "        -4.15368328e+03, -4.87584245e+03,  1.83515958e+04, -3.82882021e+03,\n",
              "         7.16551015e+02,  8.17023319e+03, -5.41812196e+03, -3.32097727e+02,\n",
              "         1.65507234e+03, -3.78748142e+03, -2.33955761e+03,  4.91587690e+02,\n",
              "        -7.22786218e+02, -2.05163298e+03, -4.15508640e+02,  3.18955421e+03,\n",
              "        -1.36198272e+03,  2.64361517e+03, -7.29423286e+03, -2.46880341e+03,\n",
              "         2.05938584e+04]))"
            ]
          },
          "metadata": {},
          "execution_count": 60
        }
      ]
    },
    {
      "cell_type": "code",
      "source": [
        "fig=plt.figure(figsize=(15,6))\n",
        "\n",
        "for x,i in zip(features_Model,score_Mod[1]): \n",
        "  if i>=0:\n",
        "      plt.plot(x,i,marker=\"D\",ms=15,mec=\"k\",mfc=\"g\")\n",
        "  else:\n",
        "      plt.plot(x,i,marker=\"D\",ms=15,mec=\"k\",mfc=\"r\")\n",
        "plt.plot(features_Model,score_Mod[1])\n",
        "plt.bar(features_Model,score_Mod[1])\n",
        "plt.xticks(rotation=60)\n",
        "\n",
        "plt.show()"
      ],
      "metadata": {
        "colab": {
          "base_uri": "https://localhost:8080/",
          "height": 423
        },
        "id": "Ztd7QjWY781c",
        "outputId": "eccf9dc6-55d7-4a67-dbfc-be05883a23a6"
      },
      "execution_count": null,
      "outputs": [
        {
          "output_type": "display_data",
          "data": {
            "text/plain": [
              "<Figure size 1080x432 with 1 Axes>"
            ],
            "image/png": "[encoded data removed]"
          },
          "metadata": {
            "needs_background": "light"
          }
        }
      ]
    },
    {
      "cell_type": "code",
      "source": [
        "df_Model.columns"
      ],
      "metadata": {
        "colab": {
          "base_uri": "https://localhost:8080/"
        },
        "id": "u3ELTUkm8YGh",
        "outputId": "5acfa499-8b16-4fc3-d2dc-830ea826024a"
      },
      "execution_count": null,
      "outputs": [
        {
          "output_type": "execute_result",
          "data": {
            "text/plain": [
              "Index(['9-2X AWD', '9_3', '9_3 HO', '9_5', '9_5 HO', 'AVEO', 'Bonneville',\n",
              "       'CST-V', 'CTS', 'Cavalier', 'Century', 'Classic', 'Cobalt', 'Corvette',\n",
              "       'Deville', 'G6', 'GTO', 'Grand Am', 'Grand Prix', 'Impala', 'Ion',\n",
              "       'L Series', 'Lacrosse', 'Lesabre', 'Malibu', 'Monte Carlo',\n",
              "       'Park Avenue', 'STS-V6', 'STS-V8', 'Sunfire', 'Vibe', 'XLR-V8'],\n",
              "      dtype='object')"
            ]
          },
          "metadata": {},
          "execution_count": 58
        }
      ]
    },
    {
      "cell_type": "markdown",
      "source": [
        "Taking Model into consideration along with the make provide best accuracy of predicting price."
      ],
      "metadata": {
        "id": "MuN24oFM87_w"
      }
    },
    {
      "cell_type": "code",
      "source": [
        "print(f'The r^2 score including make and model is {score_Mod[0]}')"
      ],
      "metadata": {
        "colab": {
          "base_uri": "https://localhost:8080/"
        },
        "id": "_nTdTWOW8cpb",
        "outputId": "ce9028b9-4c93-49f7-d1f5-1e50fac049fc"
      },
      "execution_count": null,
      "outputs": [
        {
          "output_type": "stream",
          "name": "stdout",
          "text": [
            "The r^2 score including make and model is 0.9726960036276533\n"
          ]
        }
      ]
    },
    {
      "cell_type": "markdown",
      "source": [
        "consider above predictions lets take all positive weighing columns and predict the acuuracy."
      ],
      "metadata": {
        "id": "HRmQVmrr99La"
      }
    },
    {
      "cell_type": "markdown",
      "source": [
        "$\\color{blue}{\\text{\n",
        "**Task 3.2. Find the best combination of factors to predict price.**}}$"
      ],
      "metadata": {
        "id": "1sWoL7fjAjTz"
      }
    },
    {
      "cell_type": "code",
      "source": [
        "feature_all=[]\n",
        "for x,i in zip(features_make,score_Mod[1]): \n",
        "  if i>=0:\n",
        "    if x in feature_all:\n",
        "       feature_all.append(x)\n",
        "for x,i in zip(features_type,score_btype[1]): \n",
        "  if i>=0:\n",
        "    if x not in feature_all:\n",
        "       feature_all.append(x)\n",
        "for x,i in zip(features_Model,score_Mod[1]): \n",
        "  if i>=0:\n",
        "    if x not in feature_all:\n",
        "       feature_all.append(x)\n"
      ],
      "metadata": {
        "id": "JA7HsdLq-Z-D"
      },
      "execution_count": null,
      "outputs": []
    },
    {
      "cell_type": "code",
      "source": [
        "score_com=reg_(feature_all,df1)\n",
        "score_com[0]"
      ],
      "metadata": {
        "colab": {
          "base_uri": "https://localhost:8080/"
        },
        "id": "eufpuu4T__Rp",
        "outputId": "401602c6-b76a-4b93-f477-bd95bbf60eb5"
      },
      "execution_count": null,
      "outputs": [
        {
          "output_type": "execute_result",
          "data": {
            "text/plain": [
              "0.9543221075754452"
            ]
          },
          "metadata": {},
          "execution_count": 67
        }
      ]
    },
    {
      "cell_type": "markdown",
      "source": [
        "considering most of features the best combination with good accurscy is"
      ],
      "metadata": {
        "id": "bdnmHvOMM3tS"
      }
    },
    {
      "cell_type": "code",
      "source": [
        "print('The combination to consider to predict price better is:')\n",
        "print(feature_all,'\\n\\n')\n",
        "print(f'Caculting using above fatures the accuracy is : {score_com[0]}\\n\\n')\n",
        "print('The equation is consider to be best fit for predicting price since value is above 0.8')\n",
        "\n"
      ],
      "metadata": {
        "colab": {
          "base_uri": "https://localhost:8080/"
        },
        "id": "EKBig_PbAF4P",
        "outputId": "4f197315-cd27-45ea-db88-56b3439e1214"
      },
      "execution_count": null,
      "outputs": [
        {
          "output_type": "stream",
          "name": "stdout",
          "text": [
            "The combination to consider to predict price better is:\n",
            "['Cylinder', 'Liter', 'Cruise', 'Leather', 'Convertible', 'Wagon', 'Sound', 'Cadillac', 'SAAB', '9_3', '9_3 HO', '9_5', '9_5 HO', 'Bonneville', 'CST-V', 'Corvette', 'G6', 'GTO', 'Impala', 'Lacrosse', 'Park Avenue', 'STS-V8', 'XLR-V8'] \n",
            "\n",
            "\n",
            "Caculting using above fatures the accuracy is : 0.9543221075754452\n",
            "\n",
            "\n",
            "The equation is consider to be best fit for predicting price since value is above 0.8\n"
          ]
        }
      ]
    }
  ],
  "metadata": {
    "kernelspec": {
      "display_name": "Python 3",
      "language": "python",
      "name": "python3"
    },
    "language_info": {
      "codemirror_mode": {
        "name": "ipython",
        "version": 3
      },
      "file_extension": ".py",
      "mimetype": "text/x-python",
      "name": "python",
      "nbconvert_exporter": "python",
      "pygments_lexer": "ipython3",
      "version": "3.8.3"
    },
    "colab": {
      "provenance": [],
      "include_colab_link": true
    }
  },
  "nbformat": 4,
  "nbformat_minor": 0
}